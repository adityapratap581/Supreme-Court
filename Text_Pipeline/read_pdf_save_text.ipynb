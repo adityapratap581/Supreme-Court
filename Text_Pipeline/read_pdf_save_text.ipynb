{
 "cells": [
  {
   "cell_type": "code",
   "execution_count": 1,
   "metadata": {},
   "outputs": [],
   "source": [
    "from PyPDF2 import PdfReader"
   ]
  },
  {
   "cell_type": "code",
   "execution_count": 2,
   "metadata": {},
   "outputs": [],
   "source": [
    "reader = PdfReader(r\"/home/xstats/Documents/Aditya/Supreme_Court_Text_pipeline/converted_pdf/karuna_corrected.pdf\")"
   ]
  },
  {
   "cell_type": "code",
   "execution_count": 3,
   "metadata": {},
   "outputs": [
    {
     "data": {
      "text/plain": [
       "<PyPDF2._reader.PdfReader at 0x7548cd3c77c0>"
      ]
     },
     "execution_count": 3,
     "metadata": {},
     "output_type": "execute_result"
    }
   ],
   "source": [
    "reader"
   ]
  },
  {
   "cell_type": "code",
   "execution_count": 4,
   "metadata": {},
   "outputs": [],
   "source": [
    "number_of_pages = len(reader.pages)"
   ]
  },
  {
   "cell_type": "code",
   "execution_count": 5,
   "metadata": {},
   "outputs": [
    {
     "data": {
      "text/plain": [
       "50"
      ]
     },
     "execution_count": 5,
     "metadata": {},
     "output_type": "execute_result"
    }
   ],
   "source": [
    "number_of_pages"
   ]
  },
  {
   "cell_type": "code",
   "execution_count": 6,
   "metadata": {},
   "outputs": [],
   "source": [
    "page = reader.pages[0]"
   ]
  },
  {
   "cell_type": "code",
   "execution_count": 8,
   "metadata": {},
   "outputs": [],
   "source": [
    "text = page.extract_text()"
   ]
  },
  {
   "cell_type": "code",
   "execution_count": 9,
   "metadata": {},
   "outputs": [
    {
     "data": {
      "text/plain": [
       "'IN THE SUPREME COURT OF INDIA\\nCIVIL ORIGINAL JURISDICTION\\nTRANSFER PETITION (CIVIL) NO. OF 2024\\n(PETITION UNDER SECTION 25 OF THE\\nCODE OF CIVIL PROCEDURE, 1908)\\nIN THE MATTER OF :-\\nKaruna Bipin Atyale ....Petitioner\\nV/s\\nBipin Prabhakar Atyale ....Respondent\\nWITH\\nI.A. NO. OF 2024\\n(Application for stay)\\nPAPER BOOK\\n(FOR INDEX KINDLY SEE INSIDE)\\nADVOCATE FOR THE PETITIONER:\\nDR. RAVINDRA S. CHINGALE\\nINDEX\\nRECORD OF PROCEEDINGS\\nS. DATE OF RECORD OF PROCEEDINGS PAGE(S)\\nNO.\\n1.\\n2.\\n3.\\n4.\\n5.\\n6.\\n7.\\n'"
      ]
     },
     "execution_count": 9,
     "metadata": {},
     "output_type": "execute_result"
    }
   ],
   "source": [
    "text"
   ]
  },
  {
   "cell_type": "code",
   "execution_count": 12,
   "metadata": {},
   "outputs": [
    {
     "name": "stdout",
     "output_type": "stream",
     "text": [
      "1\n",
      "2\n",
      "3\n",
      "4\n",
      "5\n",
      "6\n",
      "7\n",
      "8\n",
      "9\n",
      "10\n",
      "11\n",
      "12\n",
      "13\n",
      "14\n",
      "15\n",
      "16\n",
      "17\n",
      "18\n",
      "19\n",
      "20\n",
      "21\n",
      "22\n",
      "23\n",
      "24\n",
      "25\n",
      "26\n",
      "27\n",
      "28\n",
      "29\n",
      "30\n",
      "31\n",
      "32\n",
      "33\n",
      "34\n",
      "35\n",
      "36\n",
      "37\n",
      "38\n",
      "39\n",
      "40\n",
      "41\n",
      "42\n",
      "43\n",
      "44\n",
      "45\n",
      "46\n",
      "47\n",
      "48\n",
      "49\n",
      "50\n"
     ]
    }
   ],
   "source": [
    "for i in range(1,number_of_pages+1):\n",
    "    page = reader.pages[i]\n",
    "    text = page.extract_text()\n",
    "    with open ()\n",
    "    "
   ]
  },
  {
   "cell_type": "code",
   "execution_count": 5,
   "metadata": {},
   "outputs": [],
   "source": [
    "import os\n",
    "from PyPDF2 import PdfReader\n",
    "\n",
    "pdf_path = \"/home/xstats/Documents/Aditya/Supreme_Court_Text_pipeline/converted_pdf/karuna_corrected.pdf\"\n",
    "output_dir = \"/home/xstats/Documents/Aditya/Supreme_Court_Text_pipeline/converted_texts\"\n",
    "\n",
    "if not os.path.exists(output_dir):\n",
    "    os.makedirs(output_dir)\n",
    "\n",
    "basename = os.path.basename(pdf_path)\n",
    "save_text_pdf = os.path.join(output_dir,basename)\n",
    "os.makedirs(save_text_pdf,exist_ok=True)\n",
    "reader = PdfReader(pdf_path)\n",
    "number_of_pages = len(reader.pages)\n",
    "\n",
    "\n",
    "for page_number in range(number_of_pages):\n",
    "    page = reader.pages[page_number]\n",
    "    text = page.extract_text()\n",
    "\n",
    "\n",
    "    text_file_path = os.path.join(save_text_pdf, f\"page{page_number + 1}.txt\")\n",
    "\n",
    "\n",
    "    with open(text_file_path, 'w', encoding='utf-8') as text_file:\n",
    "        text_file.write(text)\n",
    "\n"
   ]
  },
  {
   "cell_type": "code",
   "execution_count": 3,
   "metadata": {},
   "outputs": [],
   "source": [
    "import os"
   ]
  },
  {
   "cell_type": "code",
   "execution_count": 4,
   "metadata": {},
   "outputs": [],
   "source": [
    "txt = r'/home/xstats/Documents/Aditya/SupremeCourtComplete/converted_texts/karuna_corrected.pdf'"
   ]
  },
  {
   "cell_type": "code",
   "execution_count": 6,
   "metadata": {},
   "outputs": [
    {
     "data": {
      "text/plain": [
       "'karuna_corrected'"
      ]
     },
     "execution_count": 6,
     "metadata": {},
     "output_type": "execute_result"
    }
   ],
   "source": [
    "os.path.basename(txt).removesuffix('.pdf')"
   ]
  },
  {
   "cell_type": "code",
   "execution_count": 7,
   "metadata": {},
   "outputs": [
    {
     "data": {
      "text/plain": [
       "'/home/xstats/Documents/Aditya/SupremeCourtComplete/converted_texts/karuna_corrected'"
      ]
     },
     "execution_count": 7,
     "metadata": {},
     "output_type": "execute_result"
    }
   ],
   "source": [
    "os.path.join(txt).removesuffix('.pdf')"
   ]
  },
  {
   "cell_type": "code",
   "execution_count": 8,
   "metadata": {},
   "outputs": [],
   "source": [
    "dict1 = {\n",
    "    \"Scan Defect\": [],\n",
    "    \"stamp_defect\": []\n",
    "    }"
   ]
  },
  {
   "cell_type": "code",
   "execution_count": 9,
   "metadata": {},
   "outputs": [],
   "source": [
    "final_response = {'Wrong_Petitioner': [], 'Wrong_Respondent': ['Respondent Husband', 'Diwaker', 'Chanak Manish Agarwal', 'Respondent husband', 'Chanak Manish Agarwal', 'Chanak Manish Agarwal', 'CHANAK MANISH AGARWAL']}"
   ]
  },
  {
   "cell_type": "code",
   "execution_count": 10,
   "metadata": {},
   "outputs": [
    {
     "data": {
      "text/plain": [
       "{'Wrong_Petitioner': [],\n",
       " 'Wrong_Respondent': ['Respondent Husband',\n",
       "  'Diwaker',\n",
       "  'Chanak Manish Agarwal',\n",
       "  'Respondent husband',\n",
       "  'Chanak Manish Agarwal',\n",
       "  'Chanak Manish Agarwal',\n",
       "  'CHANAK MANISH AGARWAL']}"
      ]
     },
     "execution_count": 10,
     "metadata": {},
     "output_type": "execute_result"
    }
   ],
   "source": [
    "final_response"
   ]
  },
  {
   "cell_type": "code",
   "execution_count": 12,
   "metadata": {},
   "outputs": [],
   "source": [
    "dict1.update(final_response)"
   ]
  },
  {
   "cell_type": "code",
   "execution_count": 13,
   "metadata": {},
   "outputs": [
    {
     "data": {
      "text/plain": [
       "{'Scan Defect': [],\n",
       " 'stamp_defect': [],\n",
       " 'Wrong_Petitioner': [],\n",
       " 'Wrong_Respondent': ['Respondent Husband',\n",
       "  'Diwaker',\n",
       "  'Chanak Manish Agarwal',\n",
       "  'Respondent husband',\n",
       "  'Chanak Manish Agarwal',\n",
       "  'Chanak Manish Agarwal',\n",
       "  'CHANAK MANISH AGARWAL']}"
      ]
     },
     "execution_count": 13,
     "metadata": {},
     "output_type": "execute_result"
    }
   ],
   "source": [
    "dict1"
   ]
  },
  {
   "cell_type": "code",
   "execution_count": 14,
   "metadata": {},
   "outputs": [],
   "source": [
    "dict1 = {\n",
    "  \"Scan Defect\": [\n",
    "    \"page_69.png\",\n",
    "    \"page_68.png\",\n",
    "    \"page_58.png\",\n",
    "    \"page_57.png\",\n",
    "    \"page_52.png\",\n",
    "    \"page_88.png\",\n",
    "    \"page_65.png\",\n",
    "    \"page_7.png\",\n",
    "    \"page_84.png\",\n",
    "    \"page_60.png\",\n",
    "    \"page_72.png\",\n",
    "    \"page_99.png\",\n",
    "    \"page_79.png\",\n",
    "    \"page_71.png\",\n",
    "    \"page_101.png\",\n",
    "    \"page_81.png\",\n",
    "    \"page_87.png\",\n",
    "    \"page_85.png\",\n",
    "    \"page_61.png\",\n",
    "    \"page_55.png\",\n",
    "    \"page_47.png\",\n",
    "    \"page_59.png\",\n",
    "    \"page_89.png\",\n",
    "    \"page_82.png\",\n",
    "    \"page_53.png\",\n",
    "    \"page_67.png\",\n",
    "    \"page_62.png\",\n",
    "    \"page_86.png\",\n",
    "    \"page_54.png\",\n",
    "    \"page_3.png\",\n",
    "    \"page_91.png\",\n",
    "    \"page_95.png\",\n",
    "    \"page_64.png\",\n",
    "    \"page_63.png\",\n",
    "    \"page_56.png\",\n",
    "    \"page_73.png\",\n",
    "    \"page_6.png\"\n",
    "  ],\n",
    "  \"Stamp Defect\": [\n",
    "    \"/home/xstats/Documents/Aditya/SupremeCourtComplete/Extracted Images/d2 1.pdf/page_48.png\",\n",
    "    \"/home/xstats/Documents/Aditya/SupremeCourtComplete/Extracted Images/d2 1.pdf/page_69.png\",\n",
    "    \"/home/xstats/Documents/Aditya/SupremeCourtComplete/Extracted Images/d2 1.pdf/page_83.png\",\n",
    "    \"/home/xstats/Documents/Aditya/SupremeCourtComplete/Extracted Images/d2 1.pdf/page_68.png\",\n",
    "    \"/home/xstats/Documents/Aditya/SupremeCourtComplete/Extracted Images/d2 1.pdf/page_88.png\",\n",
    "    \"/home/xstats/Documents/Aditya/SupremeCourtComplete/Extracted Images/d2 1.pdf/page_10.png\",\n",
    "    \"/home/xstats/Documents/Aditya/SupremeCourtComplete/Extracted Images/d2 1.pdf/page_9.png\",\n",
    "    \"/home/xstats/Documents/Aditya/SupremeCourtComplete/Extracted Images/d2 1.pdf/page_51.png\",\n",
    "    \"/home/xstats/Documents/Aditya/SupremeCourtComplete/Extracted Images/d2 1.pdf/page_81.png\",\n",
    "    \"/home/xstats/Documents/Aditya/SupremeCourtComplete/Extracted Images/d2 1.pdf/page_87.png\",\n",
    "    \"/home/xstats/Documents/Aditya/SupremeCourtComplete/Extracted Images/d2 1.pdf/page_85.png\",\n",
    "    \"/home/xstats/Documents/Aditya/SupremeCourtComplete/Extracted Images/d2 1.pdf/page_90.png\",\n",
    "    \"/home/xstats/Documents/Aditya/SupremeCourtComplete/Extracted Images/d2 1.pdf/page_89.png\",\n",
    "    \"/home/xstats/Documents/Aditya/SupremeCourtComplete/Extracted Images/d2 1.pdf/page_82.png\",\n",
    "    \"/home/xstats/Documents/Aditya/SupremeCourtComplete/Extracted Images/d2 1.pdf/page_53.png\",\n",
    "    \"/home/xstats/Documents/Aditya/SupremeCourtComplete/Extracted Images/d2 1.pdf/page_67.png\",\n",
    "    \"/home/xstats/Documents/Aditya/SupremeCourtComplete/Extracted Images/d2 1.pdf/page_86.png\",\n",
    "    \"/home/xstats/Documents/Aditya/SupremeCourtComplete/Extracted Images/d2 1.pdf/page_54.png\",\n",
    "    \"/home/xstats/Documents/Aditya/SupremeCourtComplete/Extracted Images/d2 1.pdf/page_63.png\",\n",
    "    \"/home/xstats/Documents/Aditya/SupremeCourtComplete/Extracted Images/d2 1.pdf/page_66.png\",\n",
    "    \"/home/xstats/Documents/Aditya/SupremeCourtComplete/Extracted Images/d2 1.pdf/page_14.png\"\n",
    "  ],\n",
    "  \"Underline Defect\": [\n",
    "    \"/home/xstats/Documents/Aditya/SupremeCourtComplete/Extracted Images/d2 1.pdf/page_92.png\"\n",
    "  ]}"
   ]
  },
  {
   "cell_type": "code",
   "execution_count": 15,
   "metadata": {},
   "outputs": [
    {
     "data": {
      "text/plain": [
       "{'Scan Defect': ['page_69.png',\n",
       "  'page_68.png',\n",
       "  'page_58.png',\n",
       "  'page_57.png',\n",
       "  'page_52.png',\n",
       "  'page_88.png',\n",
       "  'page_65.png',\n",
       "  'page_7.png',\n",
       "  'page_84.png',\n",
       "  'page_60.png',\n",
       "  'page_72.png',\n",
       "  'page_99.png',\n",
       "  'page_79.png',\n",
       "  'page_71.png',\n",
       "  'page_101.png',\n",
       "  'page_81.png',\n",
       "  'page_87.png',\n",
       "  'page_85.png',\n",
       "  'page_61.png',\n",
       "  'page_55.png',\n",
       "  'page_47.png',\n",
       "  'page_59.png',\n",
       "  'page_89.png',\n",
       "  'page_82.png',\n",
       "  'page_53.png',\n",
       "  'page_67.png',\n",
       "  'page_62.png',\n",
       "  'page_86.png',\n",
       "  'page_54.png',\n",
       "  'page_3.png',\n",
       "  'page_91.png',\n",
       "  'page_95.png',\n",
       "  'page_64.png',\n",
       "  'page_63.png',\n",
       "  'page_56.png',\n",
       "  'page_73.png',\n",
       "  'page_6.png'],\n",
       " 'Stamp Defect': ['/home/xstats/Documents/Aditya/SupremeCourtComplete/Extracted Images/d2 1.pdf/page_48.png',\n",
       "  '/home/xstats/Documents/Aditya/SupremeCourtComplete/Extracted Images/d2 1.pdf/page_69.png',\n",
       "  '/home/xstats/Documents/Aditya/SupremeCourtComplete/Extracted Images/d2 1.pdf/page_83.png',\n",
       "  '/home/xstats/Documents/Aditya/SupremeCourtComplete/Extracted Images/d2 1.pdf/page_68.png',\n",
       "  '/home/xstats/Documents/Aditya/SupremeCourtComplete/Extracted Images/d2 1.pdf/page_88.png',\n",
       "  '/home/xstats/Documents/Aditya/SupremeCourtComplete/Extracted Images/d2 1.pdf/page_10.png',\n",
       "  '/home/xstats/Documents/Aditya/SupremeCourtComplete/Extracted Images/d2 1.pdf/page_9.png',\n",
       "  '/home/xstats/Documents/Aditya/SupremeCourtComplete/Extracted Images/d2 1.pdf/page_51.png',\n",
       "  '/home/xstats/Documents/Aditya/SupremeCourtComplete/Extracted Images/d2 1.pdf/page_81.png',\n",
       "  '/home/xstats/Documents/Aditya/SupremeCourtComplete/Extracted Images/d2 1.pdf/page_87.png',\n",
       "  '/home/xstats/Documents/Aditya/SupremeCourtComplete/Extracted Images/d2 1.pdf/page_85.png',\n",
       "  '/home/xstats/Documents/Aditya/SupremeCourtComplete/Extracted Images/d2 1.pdf/page_90.png',\n",
       "  '/home/xstats/Documents/Aditya/SupremeCourtComplete/Extracted Images/d2 1.pdf/page_89.png',\n",
       "  '/home/xstats/Documents/Aditya/SupremeCourtComplete/Extracted Images/d2 1.pdf/page_82.png',\n",
       "  '/home/xstats/Documents/Aditya/SupremeCourtComplete/Extracted Images/d2 1.pdf/page_53.png',\n",
       "  '/home/xstats/Documents/Aditya/SupremeCourtComplete/Extracted Images/d2 1.pdf/page_67.png',\n",
       "  '/home/xstats/Documents/Aditya/SupremeCourtComplete/Extracted Images/d2 1.pdf/page_86.png',\n",
       "  '/home/xstats/Documents/Aditya/SupremeCourtComplete/Extracted Images/d2 1.pdf/page_54.png',\n",
       "  '/home/xstats/Documents/Aditya/SupremeCourtComplete/Extracted Images/d2 1.pdf/page_63.png',\n",
       "  '/home/xstats/Documents/Aditya/SupremeCourtComplete/Extracted Images/d2 1.pdf/page_66.png',\n",
       "  '/home/xstats/Documents/Aditya/SupremeCourtComplete/Extracted Images/d2 1.pdf/page_14.png'],\n",
       " 'Underline Defect': ['/home/xstats/Documents/Aditya/SupremeCourtComplete/Extracted Images/d2 1.pdf/page_92.png']}"
      ]
     },
     "execution_count": 15,
     "metadata": {},
     "output_type": "execute_result"
    }
   ],
   "source": [
    "dict1"
   ]
  },
  {
   "cell_type": "code",
   "execution_count": 16,
   "metadata": {},
   "outputs": [],
   "source": [
    "dict2 = {\n",
    "  \"Wrong_Petitioner\": [\n",
    "    \"Leeee\",\n",
    "    \"Diwaker Bagri\",\n",
    "    \"Tanya Agarwal\",\n",
    "    \"Diwaker\",\n",
    "    \"The Petitioner\",\n",
    "    \"Sneha\",\n",
    "    \"The Petitioner\",\n",
    "    \"Chanak Diwaker Bagri\",\n",
    "    \"My client\",\n",
    "    \"Roskndwe\",\n",
    "    \"my client\",\n",
    "    \"My client\"\n",
    "  ],\n",
    "  \"Wrong_Respondent\": [\n",
    "    \"Respondent Husband\",\n",
    "    \"Diwaker\",\n",
    "    \"Chanak Manish Agarwal\",\n",
    "    \"Chanak Manish Agarwal\",\n",
    "    \"Diwakar\",\n",
    "    \"CHANAK MANISH AGARWAL\",\n",
    "    \"Sumit Khandare\",\n",
    "    \"Sumit\",\n",
    "    \"the Respondent\",\n",
    "    \"Diwaker bagri\",\n",
    "    \"my client\",\n",
    "    \"Durin\",\n",
    "    \"client\",\n",
    "    \"your\",\n",
    "    \"Chanak Manish Agarwal\",\n",
    "    \"Diwaker\",\n",
    "    \"Chanak Bagri\",\n",
    "    \"Client\",\n",
    "    \"Your Client\",\n",
    "    \"Chanak\",\n",
    "    \"Our Client\",\n",
    "    \"My Client\",\n",
    "    \"My Client\",\n",
    "    \"Mother\",\n",
    "    \"Your Client\",\n",
    "    \"Your Client\",\n",
    "    \"Your Client\",\n",
    "    \"your Client\",\n",
    "    \"Your Client\",\n",
    "    \"Diwaker Ramesh Bagri\"\n",
    "  ]\n",
    "}"
   ]
  },
  {
   "cell_type": "code",
   "execution_count": 17,
   "metadata": {},
   "outputs": [],
   "source": [
    "dict1['Text_Defect'] = dict2"
   ]
  },
  {
   "cell_type": "code",
   "execution_count": 18,
   "metadata": {},
   "outputs": [
    {
     "data": {
      "text/plain": [
       "{'Scan Defect': ['page_69.png',\n",
       "  'page_68.png',\n",
       "  'page_58.png',\n",
       "  'page_57.png',\n",
       "  'page_52.png',\n",
       "  'page_88.png',\n",
       "  'page_65.png',\n",
       "  'page_7.png',\n",
       "  'page_84.png',\n",
       "  'page_60.png',\n",
       "  'page_72.png',\n",
       "  'page_99.png',\n",
       "  'page_79.png',\n",
       "  'page_71.png',\n",
       "  'page_101.png',\n",
       "  'page_81.png',\n",
       "  'page_87.png',\n",
       "  'page_85.png',\n",
       "  'page_61.png',\n",
       "  'page_55.png',\n",
       "  'page_47.png',\n",
       "  'page_59.png',\n",
       "  'page_89.png',\n",
       "  'page_82.png',\n",
       "  'page_53.png',\n",
       "  'page_67.png',\n",
       "  'page_62.png',\n",
       "  'page_86.png',\n",
       "  'page_54.png',\n",
       "  'page_3.png',\n",
       "  'page_91.png',\n",
       "  'page_95.png',\n",
       "  'page_64.png',\n",
       "  'page_63.png',\n",
       "  'page_56.png',\n",
       "  'page_73.png',\n",
       "  'page_6.png'],\n",
       " 'Stamp Defect': ['/home/xstats/Documents/Aditya/SupremeCourtComplete/Extracted Images/d2 1.pdf/page_48.png',\n",
       "  '/home/xstats/Documents/Aditya/SupremeCourtComplete/Extracted Images/d2 1.pdf/page_69.png',\n",
       "  '/home/xstats/Documents/Aditya/SupremeCourtComplete/Extracted Images/d2 1.pdf/page_83.png',\n",
       "  '/home/xstats/Documents/Aditya/SupremeCourtComplete/Extracted Images/d2 1.pdf/page_68.png',\n",
       "  '/home/xstats/Documents/Aditya/SupremeCourtComplete/Extracted Images/d2 1.pdf/page_88.png',\n",
       "  '/home/xstats/Documents/Aditya/SupremeCourtComplete/Extracted Images/d2 1.pdf/page_10.png',\n",
       "  '/home/xstats/Documents/Aditya/SupremeCourtComplete/Extracted Images/d2 1.pdf/page_9.png',\n",
       "  '/home/xstats/Documents/Aditya/SupremeCourtComplete/Extracted Images/d2 1.pdf/page_51.png',\n",
       "  '/home/xstats/Documents/Aditya/SupremeCourtComplete/Extracted Images/d2 1.pdf/page_81.png',\n",
       "  '/home/xstats/Documents/Aditya/SupremeCourtComplete/Extracted Images/d2 1.pdf/page_87.png',\n",
       "  '/home/xstats/Documents/Aditya/SupremeCourtComplete/Extracted Images/d2 1.pdf/page_85.png',\n",
       "  '/home/xstats/Documents/Aditya/SupremeCourtComplete/Extracted Images/d2 1.pdf/page_90.png',\n",
       "  '/home/xstats/Documents/Aditya/SupremeCourtComplete/Extracted Images/d2 1.pdf/page_89.png',\n",
       "  '/home/xstats/Documents/Aditya/SupremeCourtComplete/Extracted Images/d2 1.pdf/page_82.png',\n",
       "  '/home/xstats/Documents/Aditya/SupremeCourtComplete/Extracted Images/d2 1.pdf/page_53.png',\n",
       "  '/home/xstats/Documents/Aditya/SupremeCourtComplete/Extracted Images/d2 1.pdf/page_67.png',\n",
       "  '/home/xstats/Documents/Aditya/SupremeCourtComplete/Extracted Images/d2 1.pdf/page_86.png',\n",
       "  '/home/xstats/Documents/Aditya/SupremeCourtComplete/Extracted Images/d2 1.pdf/page_54.png',\n",
       "  '/home/xstats/Documents/Aditya/SupremeCourtComplete/Extracted Images/d2 1.pdf/page_63.png',\n",
       "  '/home/xstats/Documents/Aditya/SupremeCourtComplete/Extracted Images/d2 1.pdf/page_66.png',\n",
       "  '/home/xstats/Documents/Aditya/SupremeCourtComplete/Extracted Images/d2 1.pdf/page_14.png'],\n",
       " 'Underline Defect': ['/home/xstats/Documents/Aditya/SupremeCourtComplete/Extracted Images/d2 1.pdf/page_92.png'],\n",
       " 'Text_Defect': {'Wrong_Petitioner': ['Leeee',\n",
       "   'Diwaker Bagri',\n",
       "   'Tanya Agarwal',\n",
       "   'Diwaker',\n",
       "   'The Petitioner',\n",
       "   'Sneha',\n",
       "   'The Petitioner',\n",
       "   'Chanak Diwaker Bagri',\n",
       "   'My client',\n",
       "   'Roskndwe',\n",
       "   'my client',\n",
       "   'My client'],\n",
       "  'Wrong_Respondent': ['Respondent Husband',\n",
       "   'Diwaker',\n",
       "   'Chanak Manish Agarwal',\n",
       "   'Chanak Manish Agarwal',\n",
       "   'Diwakar',\n",
       "   'CHANAK MANISH AGARWAL',\n",
       "   'Sumit Khandare',\n",
       "   'Sumit',\n",
       "   'the Respondent',\n",
       "   'Diwaker bagri',\n",
       "   'my client',\n",
       "   'Durin',\n",
       "   'client',\n",
       "   'your',\n",
       "   'Chanak Manish Agarwal',\n",
       "   'Diwaker',\n",
       "   'Chanak Bagri',\n",
       "   'Client',\n",
       "   'Your Client',\n",
       "   'Chanak',\n",
       "   'Our Client',\n",
       "   'My Client',\n",
       "   'My Client',\n",
       "   'Mother',\n",
       "   'Your Client',\n",
       "   'Your Client',\n",
       "   'Your Client',\n",
       "   'your Client',\n",
       "   'Your Client',\n",
       "   'Diwaker Ramesh Bagri']}}"
      ]
     },
     "execution_count": 18,
     "metadata": {},
     "output_type": "execute_result"
    }
   ],
   "source": [
    "dict1"
   ]
  },
  {
   "cell_type": "code",
   "execution_count": null,
   "metadata": {},
   "outputs": [],
   "source": [
    "import pytesseract\n",
    "from pdf2image import convert_from_path\n",
    "import os\n",
    "from reportlab.lib.pagesizes import letter\n",
    "from reportlab.pdfgen import canvas\n",
    "from langdetect import detect\n",
    "from fastapi import HTTPException\n",
    "\n",
    "\n",
    "def convert_pdf_to_text_pdf(pdf_path, save_path, resolution=500):\n",
    "    pages = convert_from_path(pdf_path, resolution)\n",
    "    print('Length of pages in PDF:', len(pages))\n",
    "    \n",
    "    base_name = os.path.basename(pdf_path).removesuffix('.pdf')\n",
    "    print('Save path inside:', save_path)\n",
    "\n",
    "    per_pdf_destination = os.path.join(save_path, f'{base_name}.pdf')\n",
    "    print('Per PDF destination:', per_pdf_destination)\n",
    "\n",
    "    all_text = \"\"\n",
    "\n",
    "    for pageNum, img in enumerate(pages):\n",
    "        print('Processing page number:', pageNum + 1)\n",
    "        text = pytesseract.image_to_string(img, lang='eng')\n",
    "        all_text += text + \"\\n\\n\"\n",
    "\n",
    "    try:\n",
    "        detected_language = detect(all_text)\n",
    "        print('Detected language:', detected_language)\n",
    "        \n",
    "        if detected_language != 'en':\n",
    "            print('Error Detected: Language is not English')\n",
    "            raise TypeError('Error Detected: Language is not English')\n",
    "\n",
    "    except (Exception,TypeError) as e:\n",
    "        print('Error in language detection:', str(e))\n",
    "        raise HTTPException(status_code=400, detail=str(e))\n",
    "    c = canvas.Canvas(per_pdf_destination, pagesize=letter)\n",
    "    width, height = letter\n",
    "    text_object = c.beginText(72, height - 72)\n",
    "    text_object.setFont(\"Helvetica\", 12)\n",
    "    text_object.setTextOrigin(72, height - 72)\n",
    "\n",
    "    for line in all_text.splitlines(True):\n",
    "        if text_object.getY() < 72:\n",
    "            c.drawText(text_object)\n",
    "            c.showPage()\n",
    "            text_object = c.beginText(72, height - 72)\n",
    "            text_object.setFont(\"Helvetica\", 12)\n",
    "            text_object.setTextOrigin(72, height - 72)\n",
    "        text_object.textLines(line)\n",
    "\n",
    "    c.drawText(text_object)\n",
    "    c.save()\n",
    "    print('Text PDF created successfully at:', per_pdf_destination)\n"
   ]
  },
  {
   "cell_type": "code",
   "execution_count": null,
   "metadata": {},
   "outputs": [],
   "source": [
    "convert_pdf_to_text_pdf('example.pdf', '/path/to/save')"
   ]
  }
 ],
 "metadata": {
  "kernelspec": {
   "display_name": "Python 3",
   "language": "python",
   "name": "python3"
  },
  "language_info": {
   "codemirror_mode": {
    "name": "ipython",
    "version": 3
   },
   "file_extension": ".py",
   "mimetype": "text/x-python",
   "name": "python",
   "nbconvert_exporter": "python",
   "pygments_lexer": "ipython3",
   "version": "3.10.14"
  }
 },
 "nbformat": 4,
 "nbformat_minor": 2
}
