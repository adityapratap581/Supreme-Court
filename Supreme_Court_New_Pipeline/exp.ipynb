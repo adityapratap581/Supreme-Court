{
 "cells": [
  {
   "cell_type": "code",
   "execution_count": 1,
   "metadata": {},
   "outputs": [],
   "source": [
    "import os\n",
    "import re"
   ]
  },
  {
   "cell_type": "code",
   "execution_count": 2,
   "metadata": {},
   "outputs": [],
   "source": [
    "def find_files_with_pattern(directory_path):\n",
    "    pattern = re.compile(r'\\.\\.\\.?Petitioner|\\.\\.\\.?Respondent')\n",
    "\n",
    "    matching_files = []\n",
    "\n",
    "    for filename in os.listdir(directory_path):\n",
    "        if filename.endswith('.txt'):\n",
    "            file_path = os.path.join(directory_path, filename)\n",
    "            with open(file_path, 'r') as file:\n",
    "                content = file.read()\n",
    "                if pattern.search(content):\n",
    "                    matching_files.append(filename.split('.')[0])\n",
    "    \n",
    "    return matching_files"
   ]
  },
  {
   "cell_type": "code",
   "execution_count": 5,
   "metadata": {},
   "outputs": [
    {
     "name": "stdout",
     "output_type": "stream",
     "text": [
      "['p1.txt', 'p97.txt', 'p95.txt', 'p99.txt']\n"
     ]
    }
   ],
   "source": [
    "\n",
    "directory_path = '/home/xstats/Documents/Aditya/SupremeCourtComplete/converted_texts/d2 1'\n",
    "result = find_files_with_pattern(directory_path)\n",
    "print(result)\n"
   ]
  },
  {
   "cell_type": "code",
   "execution_count": 4,
   "metadata": {},
   "outputs": [],
   "source": [
    "def find_files_with_pattern(directory_path):\n",
    "    pattern = re.compile(r'\\.\\.\\.?Petitioner|\\.\\.\\.?Respondent')\n",
    "    matching_files = []\n",
    "\n",
    "    for filename in os.listdir(directory_path):\n",
    "        if filename.endswith('.txt'):\n",
    "            file_path = os.path.join(directory_path, filename)\n",
    "            with open(file_path, 'r') as file:\n",
    "                content = file.read()\n",
    "                if pattern.search(content):\n",
    "                    matching_files.append(filename)\n",
    "    \n",
    "    return matching_files"
   ]
  },
  {
   "cell_type": "code",
   "execution_count": 13,
   "metadata": {},
   "outputs": [],
   "source": [
    "def check_defects(entries):\n",
    "    petitioners = []\n",
    "    respondents = []\n",
    "    \n",
    "    for entry in entries:\n",
    "        petitioner_start = entry.find(\"Petitioner name: '\") + len(\"Petitioner name: '\")\n",
    "        petitioner_end = entry.find(\"'\", petitioner_start)\n",
    "        respondent_start = entry.find(\"Respondent name: '\") + len(\"Respondent name: '\")\n",
    "        respondent_end = entry.find(\"'\", respondent_start)\n",
    "        \n",
    "        petitioner = entry[petitioner_start:petitioner_end]\n",
    "        respondent = entry[respondent_start:respondent_end]\n",
    "        \n",
    "        petitioners.append(petitioner)\n",
    "        respondents.append(respondent)\n",
    "    \n",
    "    all_petitioners_consistent = True\n",
    "    for petitioner in petitioners:\n",
    "        if petitioner != petitioners[0]:\n",
    "            all_petitioners_consistent = False\n",
    "            break\n",
    "    \n",
    "    all_respondents_consistent = True\n",
    "    for respondent in respondents:\n",
    "        if respondent != respondents[0]:\n",
    "            all_respondents_consistent = False\n",
    "            break\n",
    "    \n",
    "    if all_petitioners_consistent and all_respondents_consistent:\n",
    "        return {'defect': 'Not Found', 'details': {}}\n",
    "    \n",
    "    for i in range(len(petitioners)):\n",
    "        if petitioners[i] != petitioners[0] or respondents[i] != respondents[0]:\n",
    "            return {\n",
    "                'defect': 'Found',\n",
    "                'details': {\n",
    "                    'petitioner': petitioners[i],\n",
    "                    'respondent': respondents[i]\n",
    "                }\n",
    "            }\n",
    "    \n",
    "    return {'defect': 'None', 'details': {}}"
   ]
  },
  {
   "cell_type": "code",
   "execution_count": 14,
   "metadata": {},
   "outputs": [
    {
     "name": "stdout",
     "output_type": "stream",
     "text": [
      "{'defect': 'Not Found', 'details': {}}\n"
     ]
    }
   ],
   "source": [
    "entries = [\n",
    "    \" Petitioner name: 'Chanak Manish Agarwal', Respondent name: 'Diwaker Bagri'\",\n",
    "    \" Petitioner name: 'Chanak Manish Agarwal', Respondent name: 'Diwaker Bagri'\",\n",
    "    \" Petitioner name: 'Chanak Manish Agarwal', Respondent name: 'Diwaker Bagri'\",\n",
    "    \" Petitioner name: 'Chanak Manish Agarwal', Respondent name: 'Diwaker Bagri'\"\n",
    "]\n",
    "\n",
    "result = check_defects(entries)\n",
    "print(result)\n"
   ]
  },
  {
   "cell_type": "code",
   "execution_count": 3,
   "metadata": {},
   "outputs": [
    {
     "name": "stdout",
     "output_type": "stream",
     "text": [
      " Petitioner name: 'Chanak Manish Agarwal', Respondent name: 'Diwaker Bagri'\n",
      "petitioner_start :  19\n",
      "petitioner_end :  40\n",
      "petitioners :  ['Chanak Manish Agarwal']\n",
      "respondents :  ['Diwaker Bagri']\n",
      " Petitioner name: 'Aditya Pratap Singh', Respondent name: 'Leena'\n",
      "petitioner_start :  19\n",
      "petitioner_end :  38\n",
      "petitioners :  ['Chanak Manish Agarwal', 'Aditya Pratap Singh']\n",
      "respondents :  ['Diwaker Bagri', 'Leena']\n",
      " Petitioner name: 'Chanak Manish Agarwal', Respondent name: 'Diwaker Bagri'\n",
      "petitioner_start :  19\n",
      "petitioner_end :  40\n",
      "petitioners :  ['Chanak Manish Agarwal', 'Aditya Pratap Singh', 'Chanak Manish Agarwal']\n",
      "respondents :  ['Diwaker Bagri', 'Leena', 'Diwaker Bagri']\n",
      " Petitioner name: 'Chanak Manish Agarwal', Respondent name: 'Diwaker Bagri'\n",
      "petitioner_start :  19\n",
      "petitioner_end :  40\n",
      "petitioners :  ['Chanak Manish Agarwal', 'Aditya Pratap Singh', 'Chanak Manish Agarwal', 'Chanak Manish Agarwal']\n",
      "respondents :  ['Diwaker Bagri', 'Leena', 'Diwaker Bagri', 'Diwaker Bagri']\n"
     ]
    }
   ],
   "source": [
    "petitioners = []\n",
    "respondents = []\n",
    "\n",
    "for entry in entries:\n",
    "    print(entry)\n",
    "    petitioner_start = entry.find(\"Petitioner name: '\") + len(\"Petitioner name: '\")\n",
    "    print('petitioner_start : ', petitioner_start)\n",
    "    petitioner_end = entry.find(\"'\", petitioner_start)\n",
    "    print('petitioner_end : ', petitioner_end)\n",
    "    respondent_start = entry.find(\"Respondent name: '\") + len(\"Respondent name: '\")\n",
    "    respondent_end = entry.find(\"'\", respondent_start)\n",
    "    \n",
    "    petitioner = entry[petitioner_start:petitioner_end]\n",
    "    respondent = entry[respondent_start:respondent_end]\n",
    "    \n",
    "    petitioners.append(petitioner)\n",
    "    respondents.append(respondent)\n",
    "\n",
    "    print('petitioners : ', petitioners)\n",
    "    print('respondents : ', respondents)\n",
    "if all(p == petitioners[0] for p in petitioners) and all(r == respondents[0] for r in respondents):\n",
    "    return \"All entries are consistent.\"\n",
    "else:\n",
    "    for i, (petitioner, respondent) in enumerate(zip(petitioners, respondents)):\n",
    "        if petitioner != petitioners[0] or respondent != respondents[0]:\n",
    "            return f\"Defect found: Petitioner name: '{petitioner}', Respondent name: '{respondent}'\"\n",
    "    return \"No consistent entry found.\""
   ]
  },
  {
   "cell_type": "code",
   "execution_count": null,
   "metadata": {},
   "outputs": [],
   "source": [
    "from pdf2image import convert_from_path\n",
    "import pytesseract\n",
    "from reportlab.pdfgen import canvas\n",
    "from reportlab.lib.pagesizes import letter\n",
    "import os\n",
    "from langdetect import detect, DetectorFactory\n",
    "\n",
    "DetectorFactory.seed = 0\n",
    "\n",
    "def convert_pdf_to_text_pdf(pdf_path, save_path, resolution=500):\n",
    "    pages = convert_from_path(pdf_path, resolution)\n",
    "    print('Length of pages in PDF:', len(pages))\n",
    "    \n",
    "    base_name = os.path.basename(pdf_path).removesuffix('.pdf')\n",
    "    print('Save path inside:', save_path)\n",
    "\n",
    "    per_pdf_destination = os.path.join(save_path, f'{base_name}.pdf')\n",
    "    print('Per PDF destination:', per_pdf_destination)\n",
    "\n",
    "    all_text = \"\"\n",
    "    detected_non_english = False\n",
    "\n",
    "    for pageNum, img in enumerate(pages):\n",
    "        print('Processing page number:', pageNum + 1)\n",
    "        \n",
    "        text = pytesseract.image_to_string(img, lang='hin+eng')\n",
    "        \n",
    "        try:\n",
    "            detected_lang = detect(text)\n",
    "            print('Detected language:', detected_lang)\n",
    "            if detected_lang != 'en':\n",
    "                detected_non_english = True\n",
    "                break\n",
    "        except Exception as e:\n",
    "            print('Error detecting language:', e)\n",
    "            detected_non_english = True\n",
    "            break\n",
    "        \n",
    "        all_text += text + \"\\n\\n\"\n",
    "\n",
    "    if detected_non_english:\n",
    "        return \"Found Defect, Language other than English detected.\"\n",
    "\n",
    "    c = canvas.Canvas(per_pdf_destination, pagesize=letter)\n",
    "    width, height = letter\n",
    "    text_object = c.beginText(72, height - 72)\n",
    "    text_object.setFont(\"Helvetica\", 12)\n",
    "    text_object.setTextOrigin(72, height - 72)\n",
    "\n",
    "    for line in all_text.splitlines(True):\n",
    "        if text_object.getY() < 72:\n",
    "            c.drawText(text_object)\n",
    "            c.showPage()\n",
    "            text_object = c.beginText(72, height - 72)\n",
    "            text_object.setFont(\"Helvetica\", 12)\n",
    "            text_object.setTextOrigin(72, height - 72)\n",
    "        text_object.textLines(line)\n",
    "\n",
    "    c.drawText(text_object)\n",
    "    c.save()\n",
    "\n",
    "    return \"PDF successfully created.\"\n"
   ]
  },
  {
   "cell_type": "code",
   "execution_count": 19,
   "metadata": {},
   "outputs": [],
   "source": [
    "import fitz\n",
    "from PIL import Image\n",
    "import pytesseract\n",
    "from langdetect import detect, LangDetectException\n",
    "\n",
    "def is_pdf_in_english(pdf_path):\n",
    "    try:\n",
    "        doc = fitz.open(pdf_path)\n",
    "        for page_num in range(len(doc)):\n",
    "            page = doc[page_num] \n",
    "            pix = page.get_pixmap()\n",
    "\n",
    "            image = Image.frombytes(\"RGB\", [pix.width, pix.height], pix.samples)\n",
    "\n",
    "\n",
    "            extracted_text = pytesseract.image_to_string(image)\n",
    "\n",
    "            if extracted_text.strip():\n",
    "                try:\n",
    "                    detected_language = detect(extracted_text)\n",
    "                    if detected_language == 'en':\n",
    "                        continue\n",
    "                    else:\n",
    "                        print(\"PDF is not in English.\")\n",
    "                        return False\n",
    "                except LangDetectException:\n",
    "                    print(\"Could not detect the language.\")\n",
    "                    return False\n",
    "            else:\n",
    "                print(\"No text found on page.\")\n",
    "                continue  \n",
    "            \n",
    "        print(\"All pages are in English.\")\n",
    "        return True\n",
    "    \n",
    "    except Exception as e:\n",
    "        print(f\"An error occurred: {e}\")\n",
    "        return False\n",
    "\n"
   ]
  },
  {
   "cell_type": "code",
   "execution_count": 20,
   "metadata": {},
   "outputs": [
    {
     "name": "stdout",
     "output_type": "stream",
     "text": [
      "All pages are in English.\n"
     ]
    },
    {
     "data": {
      "text/plain": [
       "True"
      ]
     },
     "execution_count": 20,
     "metadata": {},
     "output_type": "execute_result"
    }
   ],
   "source": [
    "pdf_path = r\"/home/xstats/Documents/Aditya/SupremeCourtComplete/Supreme_Court_New_Pipeline/Screenshot 2024-09-11 165151.pdf\"\n",
    "is_pdf_in_english(pdf_path)"
   ]
  },
  {
   "cell_type": "code",
   "execution_count": 26,
   "metadata": {},
   "outputs": [],
   "source": [
    "TEXT_FILES_PATH = '/home/xstats/Documents/Aditya/SupremeCourtComplete/converted_texts/d2 1'"
   ]
  },
  {
   "cell_type": "code",
   "execution_count": null,
   "metadata": {},
   "outputs": [],
   "source": [
    "cot_prompt_template = '''\n",
    "You are analyzing a legal document. You will be given text documents where each document represents a single page of the complete document. You will receive these pages one by one.\n",
    "\n",
    "For each page, your task is to:\n",
    "\n",
    "1. Check if the Provided Text is correct and appears to be part of a legal document. Determine if the text looks like legal language or contains any irrelevant or non-legal content.\n",
    "2. If the text is irrelevant or does not make any sense, respond with:\n",
    "{'defect': 'other language found'}\n",
    "3. If you think the Provided Text is correct and looks like a legal document, respond with:\n",
    "{'defect': 'No Defect Found'}\n",
    "You must answer strictly in the format provided, without adding any extra information. Use this approach for all examples you receive.\n",
    "\n",
    "Provided Text: {retrieved_text}'''\n",
    "cot_prompt = PromptTemplate(\n",
    "    input_variables=[\"retrieved_text\"],\n",
    "    template=cot_prompt_template,\n",
    ")\n",
    "ollama_llm = Ollama(model='mistral')"
   ]
  },
  {
   "cell_type": "code",
   "execution_count": 35,
   "metadata": {},
   "outputs": [],
   "source": [
    "dict1 = {'defects': ['Other Language Found', 'Other Language Found']}"
   ]
  },
  {
   "cell_type": "code",
   "execution_count": 36,
   "metadata": {},
   "outputs": [
    {
     "name": "stdout",
     "output_type": "stream",
     "text": [
      "false\n"
     ]
    }
   ],
   "source": [
    "if 'Other Language Found' in dict1.values():\n",
    "    print('true')\n",
    "else:\n",
    "    print('false')"
   ]
  },
  {
   "cell_type": "code",
   "execution_count": 38,
   "metadata": {},
   "outputs": [
    {
     "name": "stdout",
     "output_type": "stream",
     "text": [
      "defects\n",
      "['Other Language Found', 'Other Language Found']\n",
      "true\n"
     ]
    }
   ],
   "source": [
    "\n",
    "for key,value in dict1.items():\n",
    "    # print(key)\n",
    "    # print(value)\n",
    "    if 'Other Language Found' in value:\n",
    "        print('true')\n",
    "    else:\n",
    "        print('false')"
   ]
  },
  {
   "cell_type": "code",
   "execution_count": 39,
   "metadata": {},
   "outputs": [],
   "source": [
    "txt_path = r'/home/xstats/Documents/Aditya/SupremeCourtComplete/converted_texts/d2 1/p4.txt'"
   ]
  },
  {
   "cell_type": "code",
   "execution_count": 40,
   "metadata": {},
   "outputs": [],
   "source": [
    "with open (txt_path,'r') as f:\n",
    "    text = f.read()"
   ]
  },
  {
   "cell_type": "code",
   "execution_count": 41,
   "metadata": {},
   "outputs": [
    {
     "data": {
      "text/plain": [
       "'Application for -\\nexemption from filing\\nofficial translation\\npemcrorenr ee fT\\na\\neT\\na\\nNO\\nee)\\n—\\nNN\\npend\\nO1\\na\\n“A”\\nIN THE SUPREME COURT OF INDIA\\n(CRIMINAL APPELLATE JURISDICTION)\\nSPECIAL LEAVE PETITION (CRL) NO. OF 2024\\nIN THE MATTER OF :\\nSneha W/o Sumit Khandare ... Petitioner\\nVersus\\nSumit S/o Bharat Khandare & Ors. ... Respondents\\nOFFICE REPORT ON LIMITATION\\n1. The Petition is/are within limitation\\n2. The Petition is barred by time and there is delay of\\nbeen filed.\\n3. There is delay of ..... days in Refiling the petition and\\npetition for Condonation of ...... days delay in Refiling\\nhas been filed.\\n'"
      ]
     },
     "execution_count": 41,
     "metadata": {},
     "output_type": "execute_result"
    }
   ],
   "source": [
    "text"
   ]
  },
  {
   "cell_type": "code",
   "execution_count": 42,
   "metadata": {},
   "outputs": [
    {
     "data": {
      "text/plain": [
       "603"
      ]
     },
     "execution_count": 42,
     "metadata": {},
     "output_type": "execute_result"
    }
   ],
   "source": [
    "len(text)"
   ]
  },
  {
   "cell_type": "code",
   "execution_count": 43,
   "metadata": {},
   "outputs": [],
   "source": [
    "txt_path = r'/home/xstats/Documents/Aditya/SupremeCourtComplete/converted_texts/d2 1/p2.txt'"
   ]
  },
  {
   "cell_type": "code",
   "execution_count": 44,
   "metadata": {},
   "outputs": [],
   "source": [
    "with open (txt_path,'r') as f:\n",
    "    text = f.read()"
   ]
  },
  {
   "cell_type": "code",
   "execution_count": 45,
   "metadata": {},
   "outputs": [
    {
     "data": {
      "text/plain": [
       "397"
      ]
     },
     "execution_count": 45,
     "metadata": {},
     "output_type": "execute_result"
    }
   ],
   "source": [
    "len(text)"
   ]
  },
  {
   "cell_type": "code",
   "execution_count": 4,
   "metadata": {},
   "outputs": [],
   "source": [
    "txt_path = r'/home/xstats/Documents/Aditya/SupremeCourtComplete/converted_texts/d2 1'"
   ]
  },
  {
   "cell_type": "code",
   "execution_count": 5,
   "metadata": {},
   "outputs": [],
   "source": [
    "import os"
   ]
  },
  {
   "cell_type": "code",
   "execution_count": 6,
   "metadata": {},
   "outputs": [],
   "source": [
    "all_txts = os.listdir(txt_path)"
   ]
  },
  {
   "cell_type": "code",
   "execution_count": 7,
   "metadata": {},
   "outputs": [],
   "source": [
    "all_lens = {}\n",
    "for i in all_txts:\n",
    "    text_path = os.path.join(txt_path,i)\n",
    "    with open (text_path,'r') as f:\n",
    "        text = f.read()\n",
    "        length = len(text)\n",
    "    \n",
    "    all_lens[i] = length\n",
    "        \n",
    "    "
   ]
  },
  {
   "cell_type": "code",
   "execution_count": 11,
   "metadata": {},
   "outputs": [],
   "source": [
    "def text_filter(text_path):\n",
    "    all_txts = os.listdir(text_path)\n",
    "    all_lens = {}\n",
    "    for i in all_txts:\n",
    "        text_path = os.path.join(text_path,i)\n",
    "        with open (text_path,'r') as f:\n",
    "            text = f.read()\n",
    "            length = len(text)\n",
    "        \n",
    "        all_lens[i] = length\n",
    "    keys_less_than_1000 = []\n",
    "\n",
    "    for key, value in all_lens.items():\n",
    "        if value < 800:\n",
    "            keys_less_than_1000.append(key)\n",
    "    \n",
    "    return keys_less_than_1000\n",
    "    "
   ]
  },
  {
   "cell_type": "code",
   "execution_count": 12,
   "metadata": {},
   "outputs": [
    {
     "ename": "NotADirectoryError",
     "evalue": "[Errno 20] Not a directory: '/home/xstats/Documents/Aditya/SupremeCourtComplete/converted_texts/d2 1/p48.txt/p88.txt'",
     "output_type": "error",
     "traceback": [
      "\u001b[0;31m---------------------------------------------------------------------------\u001b[0m",
      "\u001b[0;31mNotADirectoryError\u001b[0m                        Traceback (most recent call last)",
      "Cell \u001b[0;32mIn[12], line 1\u001b[0m\n\u001b[0;32m----> 1\u001b[0m keys_less_than_1000 \u001b[38;5;241m=\u001b[39m \u001b[43mtext_filter\u001b[49m\u001b[43m(\u001b[49m\u001b[43mtxt_path\u001b[49m\u001b[43m)\u001b[49m\n",
      "Cell \u001b[0;32mIn[11], line 6\u001b[0m, in \u001b[0;36mtext_filter\u001b[0;34m(text_path)\u001b[0m\n\u001b[1;32m      4\u001b[0m \u001b[38;5;28;01mfor\u001b[39;00m i \u001b[38;5;129;01min\u001b[39;00m all_txts:\n\u001b[1;32m      5\u001b[0m     text_path \u001b[38;5;241m=\u001b[39m os\u001b[38;5;241m.\u001b[39mpath\u001b[38;5;241m.\u001b[39mjoin(text_path,i)\n\u001b[0;32m----> 6\u001b[0m     \u001b[38;5;28;01mwith\u001b[39;00m \u001b[38;5;28;43mopen\u001b[39;49m\u001b[43m \u001b[49m\u001b[43m(\u001b[49m\u001b[43mtext_path\u001b[49m\u001b[43m,\u001b[49m\u001b[38;5;124;43m'\u001b[39;49m\u001b[38;5;124;43mr\u001b[39;49m\u001b[38;5;124;43m'\u001b[39;49m\u001b[43m)\u001b[49m \u001b[38;5;28;01mas\u001b[39;00m f:\n\u001b[1;32m      7\u001b[0m         text \u001b[38;5;241m=\u001b[39m f\u001b[38;5;241m.\u001b[39mread()\n\u001b[1;32m      8\u001b[0m         length \u001b[38;5;241m=\u001b[39m \u001b[38;5;28mlen\u001b[39m(text)\n",
      "File \u001b[0;32m~/.local/lib/python3.10/site-packages/IPython/core/interactiveshell.py:282\u001b[0m, in \u001b[0;36m_modified_open\u001b[0;34m(file, *args, **kwargs)\u001b[0m\n\u001b[1;32m    275\u001b[0m \u001b[38;5;28;01mif\u001b[39;00m file \u001b[38;5;129;01min\u001b[39;00m {\u001b[38;5;241m0\u001b[39m, \u001b[38;5;241m1\u001b[39m, \u001b[38;5;241m2\u001b[39m}:\n\u001b[1;32m    276\u001b[0m     \u001b[38;5;28;01mraise\u001b[39;00m \u001b[38;5;167;01mValueError\u001b[39;00m(\n\u001b[1;32m    277\u001b[0m         \u001b[38;5;124mf\u001b[39m\u001b[38;5;124m\"\u001b[39m\u001b[38;5;124mIPython won\u001b[39m\u001b[38;5;124m'\u001b[39m\u001b[38;5;124mt let you open fd=\u001b[39m\u001b[38;5;132;01m{\u001b[39;00mfile\u001b[38;5;132;01m}\u001b[39;00m\u001b[38;5;124m by default \u001b[39m\u001b[38;5;124m\"\u001b[39m\n\u001b[1;32m    278\u001b[0m         \u001b[38;5;124m\"\u001b[39m\u001b[38;5;124mas it is likely to crash IPython. If you know what you are doing, \u001b[39m\u001b[38;5;124m\"\u001b[39m\n\u001b[1;32m    279\u001b[0m         \u001b[38;5;124m\"\u001b[39m\u001b[38;5;124myou can use builtins\u001b[39m\u001b[38;5;124m'\u001b[39m\u001b[38;5;124m open.\u001b[39m\u001b[38;5;124m\"\u001b[39m\n\u001b[1;32m    280\u001b[0m     )\n\u001b[0;32m--> 282\u001b[0m \u001b[38;5;28;01mreturn\u001b[39;00m \u001b[43mio_open\u001b[49m\u001b[43m(\u001b[49m\u001b[43mfile\u001b[49m\u001b[43m,\u001b[49m\u001b[43m \u001b[49m\u001b[38;5;241;43m*\u001b[39;49m\u001b[43margs\u001b[49m\u001b[43m,\u001b[49m\u001b[43m \u001b[49m\u001b[38;5;241;43m*\u001b[39;49m\u001b[38;5;241;43m*\u001b[39;49m\u001b[43mkwargs\u001b[49m\u001b[43m)\u001b[49m\n",
      "\u001b[0;31mNotADirectoryError\u001b[0m: [Errno 20] Not a directory: '/home/xstats/Documents/Aditya/SupremeCourtComplete/converted_texts/d2 1/p48.txt/p88.txt'"
     ]
    }
   ],
   "source": [
    "keys_less_than_1000 = text_filter(txt_path)"
   ]
  },
  {
   "cell_type": "code",
   "execution_count": 10,
   "metadata": {},
   "outputs": [
    {
     "ename": "NameError",
     "evalue": "name 'keys_less_than_1000' is not defined",
     "output_type": "error",
     "traceback": [
      "\u001b[0;31m---------------------------------------------------------------------------\u001b[0m",
      "\u001b[0;31mNameError\u001b[0m                                 Traceback (most recent call last)",
      "Cell \u001b[0;32mIn[10], line 1\u001b[0m\n\u001b[0;32m----> 1\u001b[0m \u001b[43mkeys_less_than_1000\u001b[49m\n",
      "\u001b[0;31mNameError\u001b[0m: name 'keys_less_than_1000' is not defined"
     ]
    }
   ],
   "source": [
    "keys_less_than_1000"
   ]
  },
  {
   "cell_type": "code",
   "execution_count": 64,
   "metadata": {},
   "outputs": [
    {
     "data": {
      "text/plain": [
       "{'p48.txt': 1000,\n",
       " 'p88.txt': 2077,\n",
       " 'p64.txt': 1928,\n",
       " 'p32.txt': 1012,\n",
       " 'p81.txt': 2043,\n",
       " 'p1.txt': 484,\n",
       " 'p94.txt': 825,\n",
       " 'p58.txt': 2141,\n",
       " 'p75.txt': 1155,\n",
       " 'p25.txt': 600,\n",
       " 'p98.txt': 911,\n",
       " 'p57.txt': 2100,\n",
       " 'p16.txt': 826,\n",
       " 'p51.txt': 1100,\n",
       " 'p84.txt': 2198,\n",
       " 'p54.txt': 2150,\n",
       " 'p78.txt': 900,\n",
       " 'p3.txt': 398,\n",
       " 'p55.txt': 2028,\n",
       " 'p86.txt': 1620,\n",
       " 'p30.txt': 998,\n",
       " 'p45.txt': 770,\n",
       " 'p6.txt': 661,\n",
       " 'p49.txt': 1533,\n",
       " 'p60.txt': 2191,\n",
       " 'p97.txt': 1019,\n",
       " 'p67.txt': 2243,\n",
       " 'p8.txt': 993,\n",
       " 'p73.txt': 1386,\n",
       " 'p80.txt': 1987,\n",
       " 'p26.txt': 862,\n",
       " 'p38.txt': 850,\n",
       " 'p24.txt': 489,\n",
       " 'p96.txt': 642,\n",
       " 'p47.txt': 1951,\n",
       " 'p34.txt': 942,\n",
       " 'p85.txt': 2129,\n",
       " 'p69.txt': 2335,\n",
       " 'p82.txt': 1846,\n",
       " 'p70.txt': 2473,\n",
       " 'p44.txt': 960,\n",
       " 'p95.txt': 314,\n",
       " 'p63.txt': 2002,\n",
       " 'p43.txt': 896,\n",
       " 'p12.txt': 852,\n",
       " 'p77.txt': 1445,\n",
       " 'p52.txt': 606,\n",
       " 'p62.txt': 1736,\n",
       " 'p66.txt': 1535,\n",
       " 'p59.txt': 2118,\n",
       " 'p46.txt': 476,\n",
       " 'p28.txt': 897,\n",
       " 'p36.txt': 877,\n",
       " 'p71.txt': 747,\n",
       " 'p14.txt': 804,\n",
       " 'p13.txt': 1163,\n",
       " 'p35.txt': 883,\n",
       " 'p50.txt': 651,\n",
       " 'p17.txt': 821,\n",
       " 'p23.txt': 807,\n",
       " 'p100.txt': 562,\n",
       " 'p72.txt': 2090,\n",
       " 'p7.txt': 1130,\n",
       " 'p41.txt': 878,\n",
       " 'p27.txt': 932,\n",
       " 'p2.txt': 113,\n",
       " 'p93.txt': 720,\n",
       " 'p61.txt': 2051,\n",
       " 'p68.txt': 2255,\n",
       " 'p11.txt': 965,\n",
       " 'p53.txt': 1907,\n",
       " 'p33.txt': 935,\n",
       " 'p40.txt': 864,\n",
       " 'p37.txt': 953,\n",
       " 'p21.txt': 813,\n",
       " 'p31.txt': 997,\n",
       " 'p9.txt': 932,\n",
       " 'p19.txt': 826,\n",
       " 'p89.txt': 2094,\n",
       " 'p101.txt': 1560,\n",
       " 'p99.txt': 252,\n",
       " 'p74.txt': 404,\n",
       " 'p18.txt': 799,\n",
       " 'p76.txt': 1387,\n",
       " 'p39.txt': 904,\n",
       " 'p15.txt': 812,\n",
       " 'p10.txt': 973,\n",
       " 'p42.txt': 946,\n",
       " 'p90.txt': 1693,\n",
       " 'p20.txt': 795,\n",
       " 'p91.txt': 944,\n",
       " 'p56.txt': 2194,\n",
       " 'p22.txt': 812,\n",
       " 'p4.txt': 707,\n",
       " 'p29.txt': 1001,\n",
       " 'p5.txt': 548,\n",
       " 'p87.txt': 2087,\n",
       " 'p92.txt': 1051,\n",
       " 'p65.txt': 766,\n",
       " 'p79.txt': 1948,\n",
       " 'p83.txt': 2038}"
      ]
     },
     "execution_count": 64,
     "metadata": {},
     "output_type": "execute_result"
    }
   ],
   "source": [
    "all_lens\n",
    "\n"
   ]
  },
  {
   "cell_type": "code",
   "execution_count": 75,
   "metadata": {},
   "outputs": [
    {
     "data": {
      "text/plain": [
       "707"
      ]
     },
     "execution_count": 75,
     "metadata": {},
     "output_type": "execute_result"
    }
   ],
   "source": [
    "all_lens['p4.txt']"
   ]
  },
  {
   "cell_type": "code",
   "execution_count": 76,
   "metadata": {},
   "outputs": [],
   "source": [
    "keys_less_than_1000 = []\n",
    "\n",
    "for key, value in all_lens.items():\n",
    "    if value < 800:\n",
    "        keys_less_than_1000.append(key)"
   ]
  },
  {
   "cell_type": "code",
   "execution_count": 77,
   "metadata": {},
   "outputs": [
    {
     "data": {
      "text/plain": [
       "['p1.txt',\n",
       " 'p25.txt',\n",
       " 'p3.txt',\n",
       " 'p45.txt',\n",
       " 'p6.txt',\n",
       " 'p24.txt',\n",
       " 'p96.txt',\n",
       " 'p95.txt',\n",
       " 'p52.txt',\n",
       " 'p46.txt',\n",
       " 'p71.txt',\n",
       " 'p50.txt',\n",
       " 'p100.txt',\n",
       " 'p2.txt',\n",
       " 'p93.txt',\n",
       " 'p99.txt',\n",
       " 'p74.txt',\n",
       " 'p18.txt',\n",
       " 'p20.txt',\n",
       " 'p4.txt',\n",
       " 'p5.txt',\n",
       " 'p65.txt']"
      ]
     },
     "execution_count": 77,
     "metadata": {},
     "output_type": "execute_result"
    }
   ],
   "source": [
    "keys_less_than_1000"
   ]
  },
  {
   "cell_type": "code",
   "execution_count": 78,
   "metadata": {},
   "outputs": [
    {
     "data": {
      "text/plain": [
       "22"
      ]
     },
     "execution_count": 78,
     "metadata": {},
     "output_type": "execute_result"
    }
   ],
   "source": [
    "len(keys_less_than_1000)"
   ]
  },
  {
   "cell_type": "code",
   "execution_count": 56,
   "metadata": {},
   "outputs": [],
   "source": [
    "import pytesseract"
   ]
  },
  {
   "cell_type": "code",
   "execution_count": 57,
   "metadata": {},
   "outputs": [],
   "source": [
    "img = r'/home/xstats/Documents/Aditya/SupremeCourtComplete/Extracted Images/d2 1.pdf/p49.png'"
   ]
  },
  {
   "cell_type": "code",
   "execution_count": 58,
   "metadata": {},
   "outputs": [],
   "source": [
    "text = pytesseract.image_to_string(img, lang='eng')"
   ]
  },
  {
   "cell_type": "code",
   "execution_count": 59,
   "metadata": {},
   "outputs": [
    {
     "data": {
      "text/plain": [
       "'25\\n\\nOn the 8th of March, 2024, I went to the pub in\\nKoramangala to clear some misunderstandings with my husband\\nand took my sister along. But he started shouting at the pub and I\\nrequested him to go back home as he was drunk. I went home with\\nmy sister at around 11:30 pm and saw the door was purposely\\nlocked, which otherwise never used to be and we waited for almost\\nhalf an hour outside. Then when I asked the reason for locking, he\\nslapped me and pushed me. I started to say I would leave the house\\nbut when I refused she dragged me and in self-defense, I pushed her\\nback but she started shouting and calling the neighbors. Due to this\\npolice came and my sister Tanya Agarwal told me that 5-6 months\\n\\nbefore marriage my husband tried to assault her physically and made\\n\\n \\n\\nher eat an i-pill by force. When she said she wanted to tell me\\neverything, she was stopped and manipulated by him saying that it\\nwould destroy my life and she stopped and let the marriage happen\\nfor my good. Thinking he would change but she could not see me\\nsuffering so she told me the truth in the early hours of 9th March\\n2024. Previous to this, his mother kept giving me threats of getting\\nmy husband’s second marriage in my presence and insulting me by\\nsaying that I was not her choice, she married me to him only because\\nit was his son’s choice which caused me mental stress and constant\\nself-doubt. Upon asking about any jewelry to wear, she would be rude\\nand say that you have not got anything much from your house and\\n\\nwhatever you have got to wear.\\n\\x0c'"
      ]
     },
     "execution_count": 59,
     "metadata": {},
     "output_type": "execute_result"
    }
   ],
   "source": [
    "text"
   ]
  },
  {
   "cell_type": "code",
   "execution_count": 13,
   "metadata": {},
   "outputs": [],
   "source": [
    "my_dict = {\n",
    "  \"Scan Defect\": [\n",
    "    \"p68.png\",\n",
    "    \"p82.png\",\n",
    "    \"p59.png\",\n",
    "    \"p53.png\",\n",
    "    \"p73.png\",\n",
    "    \"p69.png\",\n",
    "    \"p101.png\",\n",
    "    \"p61.png\",\n",
    "    \"p84.png\",\n",
    "    \"p64.png\",\n",
    "    \"p55.png\",\n",
    "    \"p79.png\",\n",
    "    \"p71.png\",\n",
    "    \"p54.png\",\n",
    "    \"p67.png\",\n",
    "    \"p65.png\",\n",
    "    \"p52.png\",\n",
    "    \"p58.png\",\n",
    "    \"p87.png\",\n",
    "    \"p60.png\",\n",
    "    \"p56.png\",\n",
    "    \"p95.png\",\n",
    "    \"p7.png\",\n",
    "    \"p47.png\",\n",
    "    \"p89.png\",\n",
    "    \"p63.png\",\n",
    "    \"p88.png\",\n",
    "    \"p91.png\",\n",
    "    \"p86.png\",\n",
    "    \"p72.png\",\n",
    "    \"p57.png\",\n",
    "    \"p81.png\",\n",
    "    \"p62.png\",\n",
    "    \"p99.png\",\n",
    "    \"p6.png\",\n",
    "    \"p85.png\",\n",
    "    \"p3.png\"\n",
    "  ],\n",
    "  \"Stamp Defect\": [\n",
    "    \"p68.png\",\n",
    "    \"p82.png\",\n",
    "    \"p53.png\",\n",
    "    \"p69.png\",\n",
    "    \"p54.png\",\n",
    "    \"p51.png\",\n",
    "    \"p67.png\",\n",
    "    \"p10.png\",\n",
    "    \"p83.png\",\n",
    "    \"p87.png\",\n",
    "    \"p90.png\",\n",
    "    \"p89.png\",\n",
    "    \"p63.png\",\n",
    "    \"p9.png\",\n",
    "    \"p88.png\",\n",
    "    \"p14.png\",\n",
    "    \"p48.png\",\n",
    "    \"p86.png\",\n",
    "    \"p81.png\",\n",
    "    \"p85.png\",\n",
    "    \"p66.png\"\n",
    "  ],\n",
    "  \"Underline Defect\": [\n",
    "    \"p92.png\"\n",
    "  ]}"
   ]
  },
  {
   "cell_type": "code",
   "execution_count": 14,
   "metadata": {},
   "outputs": [
    {
     "data": {
      "text/plain": [
       "{'Scan Defect': ['p68.png',\n",
       "  'p82.png',\n",
       "  'p59.png',\n",
       "  'p53.png',\n",
       "  'p73.png',\n",
       "  'p69.png',\n",
       "  'p101.png',\n",
       "  'p61.png',\n",
       "  'p84.png',\n",
       "  'p64.png',\n",
       "  'p55.png',\n",
       "  'p79.png',\n",
       "  'p71.png',\n",
       "  'p54.png',\n",
       "  'p67.png',\n",
       "  'p65.png',\n",
       "  'p52.png',\n",
       "  'p58.png',\n",
       "  'p87.png',\n",
       "  'p60.png',\n",
       "  'p56.png',\n",
       "  'p95.png',\n",
       "  'p7.png',\n",
       "  'p47.png',\n",
       "  'p89.png',\n",
       "  'p63.png',\n",
       "  'p88.png',\n",
       "  'p91.png',\n",
       "  'p86.png',\n",
       "  'p72.png',\n",
       "  'p57.png',\n",
       "  'p81.png',\n",
       "  'p62.png',\n",
       "  'p99.png',\n",
       "  'p6.png',\n",
       "  'p85.png',\n",
       "  'p3.png'],\n",
       " 'Stamp Defect': ['p68.png',\n",
       "  'p82.png',\n",
       "  'p53.png',\n",
       "  'p69.png',\n",
       "  'p54.png',\n",
       "  'p51.png',\n",
       "  'p67.png',\n",
       "  'p10.png',\n",
       "  'p83.png',\n",
       "  'p87.png',\n",
       "  'p90.png',\n",
       "  'p89.png',\n",
       "  'p63.png',\n",
       "  'p9.png',\n",
       "  'p88.png',\n",
       "  'p14.png',\n",
       "  'p48.png',\n",
       "  'p86.png',\n",
       "  'p81.png',\n",
       "  'p85.png',\n",
       "  'p66.png'],\n",
       " 'Underline Defect': ['p92.png']}"
      ]
     },
     "execution_count": 14,
     "metadata": {},
     "output_type": "execute_result"
    }
   ],
   "source": [
    "my_dict"
   ]
  },
  {
   "cell_type": "code",
   "execution_count": 15,
   "metadata": {},
   "outputs": [],
   "source": [
    "l1 = [\" Petitioner name: 'Karuna Bipin Atyale', Respondent name: 'Bipin Prabhakar Atyale', type of petition: 'transfer petition'\", \" Petitioner name: 'Chanak Manish Agarwal', Respondent name: 'Diwaker Bagri', type of petition: 'transfer petition'\", \" Petitioner name: 'Chanak Manish Agarwal', Respondent name: 'Diwaker Bagri', type of petition: 'transfer petition'\", \" Petitioner name: 'Karuna Bipin Atyale', Respondent name: 'Bipin Prabhakar Atyale', type of petition: 'transfer petition (civil)'\", \" Petitioner name: 'Karuna Bipin Atyale', Respondent name: 'Bipin Prabhakar Atyale', type of petition: 'transfer petition (civil)'\"]"
   ]
  },
  {
   "cell_type": "code",
   "execution_count": null,
   "metadata": {},
   "outputs": [],
   "source": []
  },
  {
   "cell_type": "code",
   "execution_count": 23,
   "metadata": {},
   "outputs": [
    {
     "name": "stdout",
     "output_type": "stream",
     "text": [
      " Petitioner name: 'Karuna Bipin Atyale', Respondent name: 'Bipin Prabhakar Atyale', type of petition: 'transfer petition'\n",
      " Petitioner name: 'Chanak Manish Agarwal', Respondent name: 'Diwaker Bagri', type of petition: 'transfer petition'\n",
      " Petitioner name: 'Chanak Manish Agarwal', Respondent name: 'Diwaker Bagri', type of petition: 'transfer petition'\n",
      " Petitioner name: 'Karuna Bipin Atyale', Respondent name: 'Bipin Prabhakar Atyale', type of petition: 'transfer petition (civil)'\n",
      " Petitioner name: 'Karuna Bipin Atyale', Respondent name: 'Bipin Prabhakar Atyale', type of petition: 'transfer petition (civil)'\n"
     ]
    }
   ],
   "source": [
    "for i in l1:\n",
    "    print(i)"
   ]
  },
  {
   "cell_type": "code",
   "execution_count": 25,
   "metadata": {},
   "outputs": [
    {
     "data": {
      "text/plain": [
       "\" Petitioner name: 'Karuna Bipin Atyale', Respondent name: 'Bipin Prabhakar Atyale', type of petition: 'transfer petition (civil)'\""
      ]
     },
     "execution_count": 25,
     "metadata": {},
     "output_type": "execute_result"
    }
   ],
   "source": [
    "l1[4]"
   ]
  },
  {
   "cell_type": "code",
   "execution_count": 27,
   "metadata": {},
   "outputs": [],
   "source": [
    "final_length = len(l1)"
   ]
  },
  {
   "cell_type": "code",
   "execution_count": 29,
   "metadata": {},
   "outputs": [
    {
     "data": {
      "text/plain": [
       "\" Petitioner name: 'Karuna Bipin Atyale', Respondent name: 'Bipin Prabhakar Atyale', type of petition: 'transfer petition (civil)'\""
      ]
     },
     "execution_count": 29,
     "metadata": {},
     "output_type": "execute_result"
    }
   ],
   "source": [
    "l1[final_length-1]"
   ]
  },
  {
   "cell_type": "code",
   "execution_count": 30,
   "metadata": {},
   "outputs": [],
   "source": [
    "if 'type of petition' in l1[final_length-1]:\n",
    "    "
   ]
  },
  {
   "cell_type": "code",
   "execution_count": 31,
   "metadata": {},
   "outputs": [
    {
     "data": {
      "text/plain": [
       "\" Petitioner name: 'Karuna Bipin Atyale', Respondent name: 'Bipin Prabhakar Atyale', type of petition: 'transfer petition (civil)'\""
      ]
     },
     "execution_count": 31,
     "metadata": {},
     "output_type": "execute_result"
    }
   ],
   "source": [
    "type_of_petition"
   ]
  },
  {
   "cell_type": "code",
   "execution_count": 36,
   "metadata": {},
   "outputs": [
    {
     "data": {
      "text/plain": [
       "84"
      ]
     },
     "execution_count": 36,
     "metadata": {},
     "output_type": "execute_result"
    }
   ],
   "source": [
    "l1[final_length-1].find('type of petition')"
   ]
  },
  {
   "cell_type": "code",
   "execution_count": 35,
   "metadata": {},
   "outputs": [
    {
     "data": {
      "text/plain": [
       "\"type of petition: 'transfer petition (civil)'\""
      ]
     },
     "execution_count": 35,
     "metadata": {},
     "output_type": "execute_result"
    }
   ],
   "source": [
    "l1[final_length-1][84:]"
   ]
  },
  {
   "cell_type": "code",
   "execution_count": 41,
   "metadata": {},
   "outputs": [],
   "source": [
    "petition_length = len('type of petition')"
   ]
  },
  {
   "cell_type": "code",
   "execution_count": 40,
   "metadata": {},
   "outputs": [
    {
     "data": {
      "text/plain": [
       "{'type of petition': \"transfer petition (civil)'\"}"
      ]
     },
     "execution_count": 40,
     "metadata": {},
     "output_type": "execute_result"
    }
   ],
   "source": [
    "{l1[final_length-1][84:100]: l1[final_length-1][103:]}"
   ]
  },
  {
   "cell_type": "code",
   "execution_count": 44,
   "metadata": {},
   "outputs": [
    {
     "data": {
      "text/plain": [
       "103"
      ]
     },
     "execution_count": 44,
     "metadata": {},
     "output_type": "execute_result"
    }
   ],
   "source": [
    "84 + petition_length + 3"
   ]
  },
  {
   "cell_type": "code",
   "execution_count": 45,
   "metadata": {},
   "outputs": [],
   "source": [
    "txt_path = r'/home/xstats/Documents/Aditya/SupremeCourtComplete/converted_texts/New D21 Small'"
   ]
  },
  {
   "cell_type": "code",
   "execution_count": 46,
   "metadata": {},
   "outputs": [
    {
     "data": {
      "text/plain": [
       "['p1.txt',\n",
       " 'p16.txt',\n",
       " 'p3.txt',\n",
       " 'p6.txt',\n",
       " 'p8.txt',\n",
       " 'p24.txt',\n",
       " 'p12.txt',\n",
       " 'p14.txt',\n",
       " 'p13.txt',\n",
       " 'p17.txt',\n",
       " 'p23.txt',\n",
       " 'p7.txt',\n",
       " 'p2.txt',\n",
       " 'p11.txt',\n",
       " 'p21.txt',\n",
       " 'p9.txt',\n",
       " 'p19.txt',\n",
       " 'p18.txt',\n",
       " 'p15.txt',\n",
       " 'p10.txt',\n",
       " 'p20.txt',\n",
       " 'p22.txt',\n",
       " 'p4.txt',\n",
       " 'p5.txt']"
      ]
     },
     "execution_count": 46,
     "metadata": {},
     "output_type": "execute_result"
    }
   ],
   "source": [
    "os.listdir(txt_path)"
   ]
  },
  {
   "cell_type": "code",
   "execution_count": 16,
   "metadata": {},
   "outputs": [],
   "source": [
    "import os\n",
    "import re\n",
    "\n",
    "def search_patterns_in_file(file_path, petitioner_name, respondent_name):\n",
    "    # Define the patterns to search for\n",
    "    patterns = [\n",
    "        rf'{petitioner_name}\\s*@\\s*.+',\n",
    "        rf'{respondent_name}\\s*@\\s*.+',\n",
    "        rf'{petitioner_name}\\s*alias\\s*.+',\n",
    "        rf'{respondent_name}\\s*alias\\s*.+'\n",
    "    ]\n",
    "\n",
    "    # Compile regex patterns\n",
    "    regex_patterns = [re.compile(pattern, re.IGNORECASE) for pattern in patterns]\n",
    "\n",
    "    with open(file_path, 'r') as file:\n",
    "        content = file.read()\n",
    "        for pattern in regex_patterns:\n",
    "            if pattern.search(content):\n",
    "                print('alias detected')\n",
    "                return {'alias':'Alias Detected'}\n",
    "                # return\n",
    "\n",
    "def search_patterns_in_directory(directory_path, petitioner_name, respondent_name):\n",
    "    # List all .txt files in the directory\n",
    "    for filename in os.listdir(directory_path):\n",
    "        if filename.endswith('.txt'):\n",
    "            file_path = os.path.join(directory_path, filename)\n",
    "            alias = search_patterns_in_file(file_path, petitioner_name, respondent_name)\n",
    "    print('alias is : ', alias)\n"
   ]
  },
  {
   "cell_type": "code",
   "execution_count": 17,
   "metadata": {},
   "outputs": [
    {
     "name": "stdout",
     "output_type": "stream",
     "text": [
      "alias detected\n",
      "alias is :  None\n"
     ]
    }
   ],
   "source": [
    "\n",
    "directory_path = '/home/xstats/Documents/Aditya/SupremeCourtComplete/converted_texts/s3'  \n",
    "petitioner_name = 'Karuna Bipin Atyale'      \n",
    "respondent_name = 'Bipin Prabhakar Atyale'   \n",
    "\n",
    "search_patterns_in_directory(directory_path, petitioner_name, respondent_name)"
   ]
  },
  {
   "cell_type": "code",
   "execution_count": 10,
   "metadata": {},
   "outputs": [],
   "source": [
    "def search_patterns_in_file(file_path, petitioner_name, respondent_name):\n",
    "    patterns = [\n",
    "        rf'{petitioner_name}\\s*@\\s*.+',\n",
    "        rf'{respondent_name}\\s*@\\s*.+',\n",
    "        rf'{petitioner_name}\\s*alias\\s*.+',\n",
    "        rf'{respondent_name}\\s*alias\\s*.+'\n",
    "    ]\n",
    "\n",
    "    regex_patterns = [re.compile(pattern, re.IGNORECASE) for pattern in patterns]\n",
    "\n",
    "    with open(file_path, 'r') as file:\n",
    "        content = file.read()\n",
    "        for pattern in regex_patterns:\n",
    "            if pattern.search(content):\n",
    "                print('alias detected inside function')\n",
    "                return True\n",
    "\n",
    "def search_patterns_in_directory(directory_path, petitioner_name, respondent_name):\n",
    "    for filename in os.listdir(directory_path):\n",
    "        if filename.endswith('.txt'):\n",
    "            file_path = os.path.join(directory_path, filename)\n",
    "            alias = search_patterns_in_file(file_path, petitioner_name, respondent_name)\n",
    "            print('alias in search function : ', alias)\n",
    "    \n",
    "            return alias"
   ]
  },
  {
   "cell_type": "code",
   "execution_count": 11,
   "metadata": {},
   "outputs": [
    {
     "name": "stdout",
     "output_type": "stream",
     "text": [
      "alias in search function :  None\n"
     ]
    }
   ],
   "source": [
    "directory_path = '/home/xstats/Documents/Aditya/SupremeCourtComplete/converted_texts/s3'  \n",
    "petitioner_name = 'Karuna Bipin Atyale'      \n",
    "respondent_name = 'Bipin Prabhakar Atyale'   \n",
    "\n",
    "response = search_patterns_in_directory(directory_path, petitioner_name, respondent_name)"
   ]
  },
  {
   "cell_type": "code",
   "execution_count": 18,
   "metadata": {},
   "outputs": [
    {
     "name": "stdout",
     "output_type": "stream",
     "text": [
      "alias detected\n",
      "alias is :  {'alias': 'Alias Detected'}\n"
     ]
    }
   ],
   "source": [
    "import os\n",
    "import re\n",
    "\n",
    "def search_patterns_in_file(file_path, petitioner_name, respondent_name):\n",
    "    # Define the patterns to search for\n",
    "    patterns = [\n",
    "        rf'{petitioner_name}\\s*@\\s*.+',\n",
    "        rf'{respondent_name}\\s*@\\s*.+',\n",
    "        rf'{petitioner_name}\\s*alias\\s*.+',\n",
    "        rf'{respondent_name}\\s*alias\\s*.+' \n",
    "    ]\n",
    "\n",
    "    # Compile regex patterns\n",
    "    regex_patterns = [re.compile(pattern, re.IGNORECASE) for pattern in patterns]\n",
    "\n",
    "    with open(file_path, 'r') as file:\n",
    "        content = file.read()\n",
    "        for pattern in regex_patterns:\n",
    "            if pattern.search(content):\n",
    "                print('alias detected')\n",
    "                return {'alias': 'Alias Detected'}\n",
    "\n",
    "    return None  # Explicitly return None if no match is found\n",
    "\n",
    "def search_patterns_in_directory(directory_path, petitioner_name, respondent_name):\n",
    "    alias = None  # Initialize alias variable\n",
    "    # List all .txt files in the directory\n",
    "    for filename in os.listdir(directory_path):\n",
    "        if filename.endswith('.txt'):\n",
    "            file_path = os.path.join(directory_path, filename)\n",
    "            result = search_patterns_in_file(file_path, petitioner_name, respondent_name)\n",
    "            if result is not None:\n",
    "                alias = result\n",
    "                break  # Stop searching after the first match\n",
    "\n",
    "    print('alias is : ', alias)\n",
    "\n",
    "directory_path = '/home/xstats/Documents/Aditya/SupremeCourtComplete/converted_texts/s3'  \n",
    "petitioner_name = 'Karuna Bipin Atyale'      \n",
    "respondent_name = 'Bipin Prabhakar Atyale'   \n",
    "\n",
    "search_patterns_in_directory(directory_path, petitioner_name, respondent_name)\n"
   ]
  },
  {
   "cell_type": "code",
   "execution_count": 4,
   "metadata": {},
   "outputs": [],
   "source": [
    "l2 = [\" Petitioner name: 'Karuna Bipin Atyale', Respondent name: 'Bipin Prabhakar Atyale', type of petition: 'transfer petition (civil)'\", \" Petitioner name: 'Chanak Manish Agarwal', Respondent name: 'Diwaker Bagri', type of petition: 'transfer petition (criminal)'\", \" Petitioner name: 'Chanak Manish Agarwal', Respondent name: 'Diwaker Bagri', type of petition: 'transfer petition (criminal)'\", \" Petitioner name: 'Karuna Bipin Atyale', Respondent name: 'Bipin Prabhakar Atyale', type of petition: 'transfer petition'\", \" Petitioner name: 'Karuna Bipin Atyale', Respondent name: 'Bipin Prabhakar Atyale', type of petition: 'transfer petition (civil)'\"]"
   ]
  },
  {
   "cell_type": "code",
   "execution_count": 55,
   "metadata": {},
   "outputs": [
    {
     "data": {
      "text/plain": [
       "\" Petitioner name: 'Karuna Bipin Atyale', Respondent name: 'Bipin Prabhakar Atyale', type of petition: 'transfer petition (civil)'\""
      ]
     },
     "execution_count": 55,
     "metadata": {},
     "output_type": "execute_result"
    }
   ],
   "source": [
    "l2[0]"
   ]
  },
  {
   "cell_type": "code",
   "execution_count": 108,
   "metadata": {},
   "outputs": [],
   "source": [
    "def find_pet_res(l2):\n",
    "    start = len('Petitioner name')\n",
    "    end = len('Respondent name')\n",
    "    len_type = len('type of petition')\n",
    "    pet_start = l2[0].find('Petitioner name')\n",
    "    res_start = l2[0].find('Respondent name')\n",
    "    type_start = l2[0].find('type of petition')\n",
    "    pet_name_index = pet_start+start + 3\n",
    "    petioner_name = l2[0][pet_name_index:res_start-3]\n",
    "    respondent_name_index = res_start+end + 3\n",
    "    respondent_name = l2[0][respondent_name_index:type_start-3]\n",
    "    \n",
    "    return {'petioner_name':petioner_name, \n",
    "            'respondent_name':respondent_name}\n",
    "    "
   ]
  },
  {
   "cell_type": "code",
   "execution_count": 110,
   "metadata": {},
   "outputs": [],
   "source": [
    "dict1 = find_pet_res(l2)"
   ]
  },
  {
   "cell_type": "code",
   "execution_count": 112,
   "metadata": {},
   "outputs": [
    {
     "data": {
      "text/plain": [
       "'Karuna Bipin Atyale'"
      ]
     },
     "execution_count": 112,
     "metadata": {},
     "output_type": "execute_result"
    }
   ],
   "source": [
    "dict1['petioner_name']"
   ]
  },
  {
   "cell_type": "code",
   "execution_count": 86,
   "metadata": {},
   "outputs": [],
   "source": [
    "start = len('Petitioner name')\n",
    "end = len('Respondent name')\n",
    "len_type = len('type of petition')"
   ]
  },
  {
   "cell_type": "code",
   "execution_count": 59,
   "metadata": {},
   "outputs": [
    {
     "data": {
      "text/plain": [
       "15"
      ]
     },
     "execution_count": 59,
     "metadata": {},
     "output_type": "execute_result"
    }
   ],
   "source": [
    "start"
   ]
  },
  {
   "cell_type": "code",
   "execution_count": 62,
   "metadata": {},
   "outputs": [],
   "source": [
    "pet_start = l2[0].find('Petitioner name')"
   ]
  },
  {
   "cell_type": "code",
   "execution_count": 73,
   "metadata": {},
   "outputs": [],
   "source": [
    "res_start = l2[0].find('Respondent name')"
   ]
  },
  {
   "cell_type": "code",
   "execution_count": 88,
   "metadata": {},
   "outputs": [],
   "source": [
    "type_start = l2[0].find('type of petition')"
   ]
  },
  {
   "cell_type": "code",
   "execution_count": 89,
   "metadata": {},
   "outputs": [
    {
     "data": {
      "text/plain": [
       "84"
      ]
     },
     "execution_count": 89,
     "metadata": {},
     "output_type": "execute_result"
    }
   ],
   "source": [
    "type_start"
   ]
  },
  {
   "cell_type": "code",
   "execution_count": 71,
   "metadata": {},
   "outputs": [],
   "source": [
    "pet_name_index = pet_start+start + 3"
   ]
  },
  {
   "cell_type": "code",
   "execution_count": 90,
   "metadata": {},
   "outputs": [
    {
     "data": {
      "text/plain": [
       "'Karuna Bipin Atyale'"
      ]
     },
     "execution_count": 90,
     "metadata": {},
     "output_type": "execute_result"
    }
   ],
   "source": [
    "petioner_name = l2[0][pet_name_index:res_start-3]\n",
    "petitioner_name"
   ]
  },
  {
   "cell_type": "code",
   "execution_count": 103,
   "metadata": {},
   "outputs": [],
   "source": []
  },
  {
   "cell_type": "code",
   "execution_count": 101,
   "metadata": {},
   "outputs": [],
   "source": [
    "respondent_name_index = res_start+end + 3"
   ]
  },
  {
   "cell_type": "code",
   "execution_count": 104,
   "metadata": {},
   "outputs": [],
   "source": [
    "respondent_name = l2[0][respondent_name_index:type_start-3]"
   ]
  },
  {
   "cell_type": "code",
   "execution_count": 105,
   "metadata": {},
   "outputs": [
    {
     "data": {
      "text/plain": [
       "'Bipin Prabhakar Atyale'"
      ]
     },
     "execution_count": 105,
     "metadata": {},
     "output_type": "execute_result"
    }
   ],
   "source": [
    "respondent_name"
   ]
  },
  {
   "cell_type": "code",
   "execution_count": 87,
   "metadata": {},
   "outputs": [
    {
     "data": {
      "text/plain": [
       "16"
      ]
     },
     "execution_count": 87,
     "metadata": {},
     "output_type": "execute_result"
    }
   ],
   "source": [
    "len_type"
   ]
  },
  {
   "cell_type": "code",
   "execution_count": 19,
   "metadata": {},
   "outputs": [
    {
     "name": "stdout",
     "output_type": "stream",
     "text": [
      "alias detected\n",
      "Alias detected: True\n"
     ]
    }
   ],
   "source": [
    "import os\n",
    "import re\n",
    "\n",
    "def search_patterns_in_file(file_path, petitioner_name, respondent_name):\n",
    "    # Define the patterns to search for\n",
    "    patterns = [\n",
    "        rf'{petitioner_name}\\s*@\\s*.+',\n",
    "        rf'{respondent_name}\\s*@\\s*.+',\n",
    "        rf'{petitioner_name}\\s*alias\\s*.+',\n",
    "        rf'{respondent_name}\\s*alias\\s*.+' \n",
    "    ]\n",
    "\n",
    "    # Compile regex patterns\n",
    "    regex_patterns = [re.compile(pattern, re.IGNORECASE) for pattern in patterns]\n",
    "\n",
    "    with open(file_path, 'r') as file:\n",
    "        content = file.read()\n",
    "        for pattern in regex_patterns:\n",
    "            if pattern.search(content):\n",
    "                print('alias detected')\n",
    "                return True  # Return True if any pattern matches\n",
    "\n",
    "    return False  # Explicitly return False if no match is found\n",
    "\n",
    "def search_patterns_in_directory(directory_path, petitioner_name, respondent_name):\n",
    "    # List all .txt files in the directory\n",
    "    for filename in os.listdir(directory_path):\n",
    "        if filename.endswith('.txt'):\n",
    "            file_path = os.path.join(directory_path, filename)\n",
    "            if search_patterns_in_file(file_path, petitioner_name, respondent_name):\n",
    "                return True  # Return True immediately if an alias is detected\n",
    "\n",
    "    return False  # Return False if no alias is detected in any file\n",
    "\n",
    "directory_path = '/home/xstats/Documents/Aditya/SupremeCourtComplete/converted_texts/s3'  \n",
    "petitioner_name = 'Karuna Bipin Atyale'      \n",
    "respondent_name = 'Bipin Prabhakar Atyale'   \n",
    "\n",
    "result = search_patterns_in_directory(directory_path, petitioner_name, respondent_name)\n",
    "print('Alias detected:', result)\n"
   ]
  },
  {
   "cell_type": "code",
   "execution_count": 20,
   "metadata": {},
   "outputs": [],
   "source": [
    "files = ['p1.txt', 'p45.txt', 'p61.txt', 'p5.txt', 'p65.txt']"
   ]
  },
  {
   "cell_type": "code",
   "execution_count": null,
   "metadata": {},
   "outputs": [],
   "source": [
    "# i have a list of .txt file like ['p1.txt', 'p45.txt', 'p61.txt', 'p5.txt', 'p65.txt'], i will pass you one directory folder where all the .txt files will present. along with this, i will send you one name, you need to only search in these files whwich i explicitly gave you in a list. you need to find one pattern, name @ any_other_name or name alias any_other_name. if these files include this pattern then return {'Alias defect':'no defect found'} but any of these files do not include this pattern then return {'Alias defect' : [file_names]}."
   ]
  },
  {
   "cell_type": "code",
   "execution_count": 21,
   "metadata": {},
   "outputs": [],
   "source": [
    "import os\n",
    "import re\n",
    "\n",
    "def check_alias_defect(directory, file_list, name):\n",
    "    pattern = re.compile(rf\"{name} @ \\w+|\\b{name} alias \\w+\", re.IGNORECASE)\n",
    "    defect_files = []\n",
    "    \n",
    "    for file_name in file_list:\n",
    "        file_path = os.path.join(directory, file_name)\n",
    "        \n",
    "        if os.path.exists(file_path):\n",
    "            with open(file_path, 'r') as file:\n",
    "                content = file.read()\n",
    "\n",
    "                if not pattern.search(content):\n",
    "                    defect_files.append(file_name)\n",
    "        else:\n",
    "            defect_files.append(file_name)\n",
    "\n",
    "    if defect_files:\n",
    "        return {'Alias defect': defect_files}\n",
    "    else:\n",
    "        return {'Alias defect': 'no defect found'}\n",
    "\n"
   ]
  },
  {
   "cell_type": "code",
   "execution_count": 23,
   "metadata": {},
   "outputs": [
    {
     "name": "stdout",
     "output_type": "stream",
     "text": [
      "{'Alias defect': ['p1.txt', 'p45.txt', 'p61.txt', 'p5.txt', 'p65.txt']}\n"
     ]
    }
   ],
   "source": [
    "directory = '/home/xstats/Documents/Aditya/SupremeCourtComplete/converted_texts/s3'\n",
    "file_list = ['p1.txt', 'p45.txt', 'p61.txt', 'p5.txt', 'p65.txt']\n",
    "name = 'Karuna Bipin Atyale'\n",
    "result = check_alias_defect(directory, file_list, name)\n",
    "print(result)"
   ]
  },
  {
   "cell_type": "code",
   "execution_count": 29,
   "metadata": {},
   "outputs": [
    {
     "name": "stdout",
     "output_type": "stream",
     "text": [
      "Alias detected for petitioner_alias\n",
      "Alias detection result: {'alias': 'detected', 'name': 'Karuna Bipin Atyale'}\n"
     ]
    }
   ],
   "source": [
    "import os\n",
    "import re\n",
    "\n",
    "def search_patterns_in_file(file_path, petitioner_name, respondent_name):\n",
    "    # Define the patterns to search for\n",
    "    patterns = {\n",
    "        'petitioner': rf'{petitioner_name}\\s*@\\s*.+',\n",
    "        'respondent': rf'{respondent_name}\\s*@\\s*.+',\n",
    "        'petitioner_alias': rf'{petitioner_name}\\s*alias\\s*.+',\n",
    "        'respondent_alias': rf'{respondent_name}\\s*alias\\s*.+' \n",
    "    }\n",
    "\n",
    "    # Compile regex patterns\n",
    "    regex_patterns = {key: re.compile(pattern, re.IGNORECASE) for key, pattern in patterns.items()}\n",
    "\n",
    "    with open(file_path, 'r') as file:\n",
    "        content = file.read()\n",
    "        for key, pattern in regex_patterns.items():\n",
    "            if pattern.search(content):\n",
    "                print(f'Alias detected for {key}')\n",
    "                if 'petitioner' in key:\n",
    "                    return {'alias': 'detected', 'name': petitioner_name}\n",
    "                else:\n",
    "                    return {'alias': 'detected', 'name': respondent_name}\n",
    "\n",
    "    return {'alias': 'not detected', 'name': None}\n",
    "\n",
    "def search_patterns_in_directory(directory_path, petitioner_name, respondent_name):\n",
    "    for filename in os.listdir(directory_path):\n",
    "        if filename.endswith('.txt'):\n",
    "            file_path = os.path.join(directory_path, filename)\n",
    "            result = search_patterns_in_file(file_path, petitioner_name, respondent_name)\n",
    "            if result['alias'] == 'detected':\n",
    "                return result  # Return the detailed dictionary if alias is detected\n",
    "\n",
    "    return {'alias': 'not detected', 'name': None}  # Return a dictionary if no alias is detected\n",
    "\n",
    "directory_path = '/home/xstats/Documents/Aditya/SupremeCourtComplete/converted_texts/s3'  \n",
    "petitioner_name = 'Karuna Bipin Atyale'      \n",
    "respondent_name = 'Bipin Prabhakar Atyale'   \n",
    "\n",
    "result = search_patterns_in_directory(directory_path, petitioner_name, respondent_name)\n",
    "print('Alias detection result:', result)\n"
   ]
  },
  {
   "cell_type": "code",
   "execution_count": 30,
   "metadata": {},
   "outputs": [],
   "source": [
    "dict1 = {'alias': 'detected', 'name': 'petitioner'}"
   ]
  },
  {
   "cell_type": "code",
   "execution_count": 28,
   "metadata": {},
   "outputs": [
    {
     "name": "stdout",
     "output_type": "stream",
     "text": [
      "petitioner\n"
     ]
    }
   ],
   "source": [
    "if dict1['alias'] == 'detected':\n",
    "    print(dict1['name'])"
   ]
  },
  {
   "cell_type": "code",
   "execution_count": null,
   "metadata": {},
   "outputs": [],
   "source": [
    "# i will pass one string (type_of_petition), string can be of two types : 'transfer petition' and 'special leave petition' i will pass you one .txt file name also, and one directory_path where that .txt file is. you need to check one pattern. you will see 'civil or 'criminal' near the type_of_petition. if you find these then return a dictionary, {'category':'civil'or'criminal'} "
   ]
  },
  {
   "cell_type": "code",
   "execution_count": 32,
   "metadata": {},
   "outputs": [],
   "source": [
    "import os\n",
    "import re\n",
    "\n",
    "def search_category_in_file(file_path, type_of_petition):\n",
    "    # Define patterns based on the type_of_petition\n",
    "    patterns = {\n",
    "        'transfer petition': rf'{type_of_petition}.*\\b(civil|criminal)\\b',\n",
    "        'special leave petition': rf'{type_of_petition}.*\\b(civil|criminal)\\b'\n",
    "    }\n",
    "\n",
    "    # Compile the regex pattern for the given type_of_petition\n",
    "    if type_of_petition not in patterns:\n",
    "        raise ValueError(\"Invalid type_of_petition provided. Choose 'transfer petition' or 'special leave petition'.\")\n",
    "    \n",
    "    pattern = re.compile(patterns[type_of_petition], re.IGNORECASE)\n",
    "\n",
    "    # Open and read the file\n",
    "    with open(file_path, 'r') as file:\n",
    "        content = file.read()\n",
    "        match = pattern.search(content)\n",
    "        if match:\n",
    "            # Return the category found in the match\n",
    "            return {'category': match.group(1).lower()}\n",
    "    \n",
    "    return {'category': None}  # Return None if no category is found\n",
    "\n",
    "def search_category_in_directory(directory_path, file_name, type_of_petition):\n",
    "    file_path = os.path.join(directory_path, file_name)\n",
    "    return search_category_in_file(file_path, type_of_petition)\n"
   ]
  },
  {
   "cell_type": "code",
   "execution_count": 33,
   "metadata": {},
   "outputs": [
    {
     "name": "stdout",
     "output_type": "stream",
     "text": [
      "Category detection result: {'category': 'civil'}\n"
     ]
    }
   ],
   "source": [
    "directory_path = '/home/xstats/Documents/Aditya/SupremeCourtComplete/converted_texts/s3'\n",
    "file_name = 'p1.txt'\n",
    "type_of_petition = 'transfer petition'\n",
    "\n",
    "result = search_category_in_directory(directory_path, file_name, type_of_petition)\n",
    "print('Category detection result:', result)"
   ]
  },
  {
   "cell_type": "code",
   "execution_count": 45,
   "metadata": {},
   "outputs": [],
   "source": [
    "dict1 = {'type of petition': \"transfer petition (civil)'\"}"
   ]
  },
  {
   "cell_type": "code",
   "execution_count": 46,
   "metadata": {},
   "outputs": [],
   "source": [
    "type_of_petition = dict1['type of petition'].split('(')[0]"
   ]
  },
  {
   "cell_type": "code",
   "execution_count": 48,
   "metadata": {},
   "outputs": [
    {
     "data": {
      "text/plain": [
       "'transfer petition '"
      ]
     },
     "execution_count": 48,
     "metadata": {},
     "output_type": "execute_result"
    }
   ],
   "source": [
    "type_of_petition"
   ]
  },
  {
   "cell_type": "code",
   "execution_count": 37,
   "metadata": {},
   "outputs": [],
   "source": [
    "a = 'transfer petition'"
   ]
  },
  {
   "cell_type": "code",
   "execution_count": 38,
   "metadata": {},
   "outputs": [
    {
     "data": {
      "text/plain": [
       "['transfer petition']"
      ]
     },
     "execution_count": 38,
     "metadata": {},
     "output_type": "execute_result"
    }
   ],
   "source": [
    "a.split('(')"
   ]
  },
  {
   "cell_type": "code",
   "execution_count": null,
   "metadata": {},
   "outputs": [],
   "source": [
    "{'type of petition': 'transfer petition '}"
   ]
  }
 ],
 "metadata": {
  "kernelspec": {
   "display_name": "Python 3",
   "language": "python",
   "name": "python3"
  },
  "language_info": {
   "codemirror_mode": {
    "name": "ipython",
    "version": 3
   },
   "file_extension": ".py",
   "mimetype": "text/x-python",
   "name": "python",
   "nbconvert_exporter": "python",
   "pygments_lexer": "ipython3",
   "version": "3.10.14"
  }
 },
 "nbformat": 4,
 "nbformat_minor": 2
}
