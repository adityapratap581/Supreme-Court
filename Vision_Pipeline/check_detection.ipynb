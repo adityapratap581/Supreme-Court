{
 "cells": [
  {
   "cell_type": "code",
   "execution_count": 1,
   "metadata": {},
   "outputs": [],
   "source": [
    "import torch\n",
    "from ultralytics import YOLO"
   ]
  },
  {
   "cell_type": "code",
   "execution_count": 6,
   "metadata": {},
   "outputs": [],
   "source": [
    "model_path = r'/home/xstats/Documents/Aditya/SupremeCourtComplete/Vision_Pipeline/runs/detect/train/weights/best.pt'"
   ]
  },
  {
   "cell_type": "code",
   "execution_count": 7,
   "metadata": {},
   "outputs": [],
   "source": [
    "def load_yolo_model(model_path):\n",
    "    model = YOLO(model_path)\n",
    "    print('model succussfully loaded')\n",
    "    return model"
   ]
  },
  {
   "cell_type": "code",
   "execution_count": 8,
   "metadata": {},
   "outputs": [
    {
     "name": "stdout",
     "output_type": "stream",
     "text": [
      "model succussfully loaded\n"
     ]
    }
   ],
   "source": [
    "model = load_yolo_model(model_path)"
   ]
  },
  {
   "cell_type": "code",
   "execution_count": 9,
   "metadata": {},
   "outputs": [],
   "source": [
    "def detect_objects(model, image_path):\n",
    "    results = model(image_path)\n",
    "    \n",
    "    boxes = results[0].boxes\n",
    "    return boxes"
   ]
  },
  {
   "cell_type": "code",
   "execution_count": 16,
   "metadata": {},
   "outputs": [],
   "source": [
    "img_path = r'/home/xstats/Documents/Aditya/SupremeCourtComplete/Hindi_Eng_Detection/images/train/Screenshot 2024-08-30 130032.png'"
   ]
  },
  {
   "cell_type": "code",
   "execution_count": 17,
   "metadata": {},
   "outputs": [
    {
     "name": "stdout",
     "output_type": "stream",
     "text": [
      "\n",
      "image 1/1 /home/xstats/Documents/Aditya/SupremeCourtComplete/Hindi_Eng_Detection/images/train/Screenshot 2024-08-30 130032.png: 544x416 2 Englishs, 2 Hindis, 2.0ms\n",
      "Speed: 8.9ms preprocess, 2.0ms inference, 0.7ms postprocess per image at shape (1, 3, 544, 416)\n"
     ]
    }
   ],
   "source": [
    "boxes = detect_objects(model=model,image_path=img_path)"
   ]
  },
  {
   "cell_type": "code",
   "execution_count": 18,
   "metadata": {},
   "outputs": [
    {
     "data": {
      "text/plain": [
       "tensor([1., 0., 0., 1.], device='cuda:0')"
      ]
     },
     "execution_count": 18,
     "metadata": {},
     "output_type": "execute_result"
    }
   ],
   "source": [
    "boxes.cls"
   ]
  },
  {
   "cell_type": "code",
   "execution_count": 19,
   "metadata": {},
   "outputs": [],
   "source": [
    "img_path = r'/home/xstats/Documents/Aditya/SupremeCourtComplete/Hindi_Eng_Detection/images/train/Screenshot 2024-09-11 181049.png'"
   ]
  },
  {
   "cell_type": "code",
   "execution_count": 20,
   "metadata": {},
   "outputs": [
    {
     "name": "stdout",
     "output_type": "stream",
     "text": [
      "\n",
      "image 1/1 /home/xstats/Documents/Aditya/SupremeCourtComplete/Hindi_Eng_Detection/images/train/Screenshot 2024-09-11 181049.png: 512x544 2 Englishs, 20.0ms\n",
      "Speed: 9.3ms preprocess, 20.0ms inference, 0.5ms postprocess per image at shape (1, 3, 512, 544)\n"
     ]
    }
   ],
   "source": [
    "boxes = detect_objects(model=model,image_path=img_path)"
   ]
  },
  {
   "cell_type": "code",
   "execution_count": 21,
   "metadata": {},
   "outputs": [
    {
     "data": {
      "text/plain": [
       "tensor([0., 0.], device='cuda:0')"
      ]
     },
     "execution_count": 21,
     "metadata": {},
     "output_type": "execute_result"
    }
   ],
   "source": [
    "boxes.cls"
   ]
  },
  {
   "cell_type": "code",
   "execution_count": null,
   "metadata": {},
   "outputs": [],
   "source": []
  }
 ],
 "metadata": {
  "kernelspec": {
   "display_name": "Python 3",
   "language": "python",
   "name": "python3"
  },
  "language_info": {
   "codemirror_mode": {
    "name": "ipython",
    "version": 3
   },
   "file_extension": ".py",
   "mimetype": "text/x-python",
   "name": "python",
   "nbconvert_exporter": "python",
   "pygments_lexer": "ipython3",
   "version": "3.10.14"
  }
 },
 "nbformat": 4,
 "nbformat_minor": 2
}
